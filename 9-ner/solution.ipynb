{
 "metadata": {
  "language_info": {
   "codemirror_mode": {
    "name": "ipython",
    "version": 3
   },
   "file_extension": ".py",
   "mimetype": "text/x-python",
   "name": "python",
   "nbconvert_exporter": "python",
   "pygments_lexer": "ipython3",
   "version": "3.8.3-final"
  },
  "orig_nbformat": 2,
  "kernelspec": {
   "name": "python3",
   "display_name": "Python 3",
   "language": "python"
  }
 },
 "nbformat": 4,
 "nbformat_minor": 2,
 "cells": [
  {
   "source": [
    "Piotr Janczyk  \n",
    "PJN\n",
    "\n",
    "# Named entity recognition"
   ],
   "cell_type": "markdown",
   "metadata": {}
  },
  {
   "cell_type": "code",
   "execution_count": 1,
   "metadata": {},
   "outputs": [],
   "source": [
    "from glob import glob\n",
    "import pandas as pd\n",
    "import regex\n",
    "from typing import NamedTuple, List, Iterator, Tuple\n",
    "from tqdm import tqdm\n",
    "import requests\n",
    "from collections import Counter, defaultdict\n",
    "import json\n",
    "import time\n",
    "from xml.etree import ElementTree\n",
    "import matplotlib.pyplot as plt"
   ]
  },
  {
   "cell_type": "code",
   "execution_count": 2,
   "metadata": {},
   "outputs": [],
   "source": [
    "def read_file(filename: str) -> str:\n",
    "    with open(filename, \"r\") as f:\n",
    "        return f.read()\n",
    "\n",
    "filenames = sorted(glob(\"../ustawy-v2/*.txt\"))\n",
    "\n",
    "acts = pd.DataFrame({\n",
    "  \"id\": [regex.match(r\"\\.\\./ustawy-v2/(\\d+_\\d+)\\.txt\", filename).group(1) for filename in filenames],\n",
    "  \"text\": [read_file(filename) for filename in filenames]\n",
    "})"
   ]
  },
  {
   "source": [
    "#### _4\\. Sort bills according to their size and take top 50 (largest) bills._"
   ],
   "cell_type": "markdown",
   "metadata": {}
  },
  {
   "cell_type": "code",
   "execution_count": 3,
   "metadata": {},
   "outputs": [],
   "source": [
    "acts[\"length\"] = [len(text) for text in acts[\"text\"]]\n",
    "acts = acts.sort_values(by='length')\n",
    "acts = acts.tail(50)"
   ]
  },
  {
   "cell_type": "code",
   "execution_count": 4,
   "metadata": {},
   "outputs": [
    {
     "output_type": "execute_result",
     "data": {
      "text/plain": [
       "            id                                               text  length\n",
       "701  2001_1444  \\n\\n\\n\\nDz.U. z 2001 r. Nr 129, poz. 1444\\n   ...  129257\n",
       "231   1997_153  \\n\\n\\n\\nDz.U. z 1997 r. Nr 28, poz. 153\\n     ...  131863\n",
       "802    2001_92  \\n\\n\\n\\nDz.U. z 2001 r. Nr 12, poz. 92\\n      ...  136040\n",
       "..         ...                                                ...     ...\n",
       "174   1996_465  \\n\\n\\n\\nDz.U. z 2000 r. Nr 94, poz. 1037\\n    ...  396433\n",
       "754   2001_627  \\n\\n\\n\\nDz.U. z 2001 r. Nr 62, poz. 627\\n     ...  397912\n",
       "591   2000_696  \\n\\n\\n\\nDz.U. z 1998 r. Nr 106, poz. 668\\n    ...  560054\n",
       "\n",
       "[50 rows x 3 columns]"
      ],
      "text/html": "<div>\n<style scoped>\n    .dataframe tbody tr th:only-of-type {\n        vertical-align: middle;\n    }\n\n    .dataframe tbody tr th {\n        vertical-align: top;\n    }\n\n    .dataframe thead th {\n        text-align: right;\n    }\n</style>\n<table border=\"1\" class=\"dataframe\">\n  <thead>\n    <tr style=\"text-align: right;\">\n      <th></th>\n      <th>id</th>\n      <th>text</th>\n      <th>length</th>\n    </tr>\n  </thead>\n  <tbody>\n    <tr>\n      <th>701</th>\n      <td>2001_1444</td>\n      <td>\\n\\n\\n\\nDz.U. z 2001 r. Nr 129, poz. 1444\\n   ...</td>\n      <td>129257</td>\n    </tr>\n    <tr>\n      <th>231</th>\n      <td>1997_153</td>\n      <td>\\n\\n\\n\\nDz.U. z 1997 r. Nr 28, poz. 153\\n     ...</td>\n      <td>131863</td>\n    </tr>\n    <tr>\n      <th>802</th>\n      <td>2001_92</td>\n      <td>\\n\\n\\n\\nDz.U. z 2001 r. Nr 12, poz. 92\\n      ...</td>\n      <td>136040</td>\n    </tr>\n    <tr>\n      <th>...</th>\n      <td>...</td>\n      <td>...</td>\n      <td>...</td>\n    </tr>\n    <tr>\n      <th>174</th>\n      <td>1996_465</td>\n      <td>\\n\\n\\n\\nDz.U. z 2000 r. Nr 94, poz. 1037\\n    ...</td>\n      <td>396433</td>\n    </tr>\n    <tr>\n      <th>754</th>\n      <td>2001_627</td>\n      <td>\\n\\n\\n\\nDz.U. z 2001 r. Nr 62, poz. 627\\n     ...</td>\n      <td>397912</td>\n    </tr>\n    <tr>\n      <th>591</th>\n      <td>2000_696</td>\n      <td>\\n\\n\\n\\nDz.U. z 1998 r. Nr 106, poz. 668\\n    ...</td>\n      <td>560054</td>\n    </tr>\n  </tbody>\n</table>\n<p>50 rows × 3 columns</p>\n</div>"
     },
     "metadata": {},
     "execution_count": 4
    }
   ],
   "source": [
    "pd.set_option('display.max_rows', 6)\n",
    "\n",
    "acts"
   ]
  },
  {
   "source": [
    "#### _5\\. Use the lemmatized and sentence split documents ... to identify the expressions that consist of consecutive words starting with a capital letter ... that do not occupy the first position in a sentence._"
   ],
   "cell_type": "markdown",
   "metadata": {}
  },
  {
   "cell_type": "code",
   "execution_count": 5,
   "metadata": {},
   "outputs": [],
   "source": [
    "def tag_text(text: str) -> str:\n",
    "    response = requests.post(\"http://localhost:9200\", data=text.replace(\"\\n\", \" \").encode(\"utf-8\"))\n",
    "    return response.content.decode(\"utf-8\")"
   ]
  },
  {
   "cell_type": "code",
   "execution_count": 6,
   "metadata": {},
   "outputs": [],
   "source": [
    "# acts[\"tagger_output\"] = [tag_text(text) for text in tqdm(acts[\"text\"])]\n",
    "# acts.to_csv(\"tagged.csv\")\n",
    "acts = pd.read_csv(\"tagged.csv\", index_col=0)"
   ]
  },
  {
   "cell_type": "code",
   "execution_count": 7,
   "metadata": {},
   "outputs": [],
   "source": [
    "tagger_output: str = \"\".join(acts[\"tagger_output\"])"
   ]
  },
  {
   "cell_type": "code",
   "execution_count": 8,
   "metadata": {
    "tags": []
   },
   "outputs": [],
   "source": [
    "class Token(NamedTuple):\n",
    "    word: str\n",
    "    lemma: str\n",
    "    category: str\n",
    "\n",
    "    def __repr__(self):\n",
    "        return f\"{self.word} ({self.lemma}:{self.category})\"\n",
    "\n",
    "Sentence = List[Token]\n",
    "\n",
    "def extract_sentences_and_tokens(tagger_output: str) -> List[Sentence]:\n",
    "    lines = tagger_output.split(\"\\n\")\n",
    "    sentences = []\n",
    "    words = []\n",
    "\n",
    "    for i, line in enumerate(lines):\n",
    "        if line == \"\":\n",
    "            if len(words) > 0:\n",
    "                sentences.append(words)\n",
    "                words = []\n",
    "        elif line.startswith(\"\\t\"):\n",
    "            prev_line = lines[i - 1]\n",
    "            words.append(\n",
    "                Token(\n",
    "                    word=prev_line.split(\"\\t\")[0],\n",
    "                    lemma=line.split(\"\\t\")[1].lower(),\n",
    "                    category=line.split(\"\\t\")[2].split(\":\")[0],\n",
    "                )\n",
    "            )\n",
    "        \n",
    "    return sentences"
   ]
  },
  {
   "cell_type": "code",
   "execution_count": 9,
   "metadata": {},
   "outputs": [],
   "source": [
    "sentences = extract_sentences_and_tokens(tagger_output)"
   ]
  },
  {
   "cell_type": "code",
   "execution_count": 10,
   "metadata": {},
   "outputs": [
    {
     "output_type": "execute_result",
     "data": {
      "text/plain": [
       "[Kierujący (kierować:pact),\n",
       " rowerem (rower:subst),\n",
       " jednośladowym (jednośladowy:adj),\n",
       " jest (być:fin),\n",
       " obowiązany (obowiązany:adj),\n",
       " korzystać (korzystać:inf),\n",
       " z (z:prep),\n",
       " drogi (droga:subst),\n",
       " dla (dla:prep),\n",
       " rowerów (rower:subst),\n",
       " lub (lub:conj),\n",
       " z (z:prep),\n",
       " drogi (droga:subst),\n",
       " dla (dla:prep),\n",
       " rowerów (rower:subst),\n",
       " i (i:conj),\n",
       " pieszych (pieszy:adj),\n",
       " . (.:interp)]"
      ]
     },
     "metadata": {},
     "execution_count": 10
    }
   ],
   "source": [
    "sentences[50]"
   ]
  },
  {
   "cell_type": "code",
   "execution_count": 11,
   "metadata": {},
   "outputs": [],
   "source": [
    "def recognize_named_entities(sentences: List[Sentence]) -> Iterator[str]:\n",
    "    def process_sentence(sentence: Sentence) -> List[str]:\n",
    "        start_of_sentence = True\n",
    "        named_entity = []\n",
    "        for token in sentence:\n",
    "            if token.word[0].isupper():\n",
    "                named_entity.append(token.lemma)\n",
    "            else:\n",
    "                if len(named_entity) > 0 and not start_of_sentence:\n",
    "                    yield \" \".join(named_entity)\n",
    "                start_of_sentence = False\n",
    "                named_entity = []\n",
    "\n",
    "    return [\n",
    "        entity\n",
    "        for sentence in sentences\n",
    "        for entity in process_sentence(sentence)\n",
    "    ]"
   ]
  },
  {
   "cell_type": "code",
   "execution_count": 12,
   "metadata": {},
   "outputs": [],
   "source": [
    "named_entities = recognize_named_entities(sentences)"
   ]
  },
  {
   "source": [
    "#### _6\\. Compute the frequency of each identified expression and print 50 results with the largest number of occurrences._"
   ],
   "cell_type": "markdown",
   "metadata": {}
  },
  {
   "cell_type": "code",
   "execution_count": 13,
   "metadata": {},
   "outputs": [
    {
     "output_type": "execute_result",
     "data": {
      "text/plain": [
       "                               count\n",
       "named_entity                        \n",
       "numer                           4583\n",
       "artykuł                         1840\n",
       "dziennik                        1599\n",
       "ustawa                          1516\n",
       "rzeczpospolita polski            704\n",
       "kodeks                           499\n",
       "policja                          454\n",
       "skarb państwo                    389\n",
       "prawo                            330\n",
       "kasa chory                       300\n",
       "unia europejski                  292\n",
       "straż graniczny                  288\n",
       "państwowy straż pożarny          239\n",
       "zakład                           216\n",
       "państwowy komisja wyborczy       206\n",
       "prezes urząd                     179\n",
       "i                                178\n",
       "zmiana                           175\n",
       "minister obrona narodowy         174\n",
       "minister sprawiedliwość          171\n",
       "rada                             171\n",
       "pozostały                        162\n",
       "urząd patentowy                  160\n",
       "azot                             159\n",
       "fundusz                          152\n",
       "ii                               148\n",
       "rozdział                         147\n",
       "tkanina                          138\n",
       "prezes rada minister             133\n",
       "rada minister                    128\n",
       "minister finanse                 124\n",
       "urząd ochrona państwo            121\n",
       "efta                             114\n",
       "nawóz                            112\n",
       "iii                              111\n",
       "inspektor nadzór wewnętrzny      110\n",
       "p2o5                             110\n",
       "art                              107\n",
       "administracja                    106\n",
       "europejski obszar gospodarczy    105\n",
       "europejski porozumienie          104\n",
       "wolny handel                     104\n",
       "komisja                          102\n",
       "przepis                          101\n",
       "biuro                             94\n",
       "maszyna                           93\n",
       "minister sprawa wewnętrzny        92\n",
       "damski                            91\n",
       "opieka społeczny                  89\n",
       "szef urząd ochrona państwo        88"
      ],
      "text/html": "<div>\n<style scoped>\n    .dataframe tbody tr th:only-of-type {\n        vertical-align: middle;\n    }\n\n    .dataframe tbody tr th {\n        vertical-align: top;\n    }\n\n    .dataframe thead th {\n        text-align: right;\n    }\n</style>\n<table border=\"1\" class=\"dataframe\">\n  <thead>\n    <tr style=\"text-align: right;\">\n      <th></th>\n      <th>count</th>\n    </tr>\n    <tr>\n      <th>named_entity</th>\n      <th></th>\n    </tr>\n  </thead>\n  <tbody>\n    <tr>\n      <th>numer</th>\n      <td>4583</td>\n    </tr>\n    <tr>\n      <th>artykuł</th>\n      <td>1840</td>\n    </tr>\n    <tr>\n      <th>dziennik</th>\n      <td>1599</td>\n    </tr>\n    <tr>\n      <th>ustawa</th>\n      <td>1516</td>\n    </tr>\n    <tr>\n      <th>rzeczpospolita polski</th>\n      <td>704</td>\n    </tr>\n    <tr>\n      <th>kodeks</th>\n      <td>499</td>\n    </tr>\n    <tr>\n      <th>policja</th>\n      <td>454</td>\n    </tr>\n    <tr>\n      <th>skarb państwo</th>\n      <td>389</td>\n    </tr>\n    <tr>\n      <th>prawo</th>\n      <td>330</td>\n    </tr>\n    <tr>\n      <th>kasa chory</th>\n      <td>300</td>\n    </tr>\n    <tr>\n      <th>unia europejski</th>\n      <td>292</td>\n    </tr>\n    <tr>\n      <th>straż graniczny</th>\n      <td>288</td>\n    </tr>\n    <tr>\n      <th>państwowy straż pożarny</th>\n      <td>239</td>\n    </tr>\n    <tr>\n      <th>zakład</th>\n      <td>216</td>\n    </tr>\n    <tr>\n      <th>państwowy komisja wyborczy</th>\n      <td>206</td>\n    </tr>\n    <tr>\n      <th>prezes urząd</th>\n      <td>179</td>\n    </tr>\n    <tr>\n      <th>i</th>\n      <td>178</td>\n    </tr>\n    <tr>\n      <th>zmiana</th>\n      <td>175</td>\n    </tr>\n    <tr>\n      <th>minister obrona narodowy</th>\n      <td>174</td>\n    </tr>\n    <tr>\n      <th>minister sprawiedliwość</th>\n      <td>171</td>\n    </tr>\n    <tr>\n      <th>rada</th>\n      <td>171</td>\n    </tr>\n    <tr>\n      <th>pozostały</th>\n      <td>162</td>\n    </tr>\n    <tr>\n      <th>urząd patentowy</th>\n      <td>160</td>\n    </tr>\n    <tr>\n      <th>azot</th>\n      <td>159</td>\n    </tr>\n    <tr>\n      <th>fundusz</th>\n      <td>152</td>\n    </tr>\n    <tr>\n      <th>ii</th>\n      <td>148</td>\n    </tr>\n    <tr>\n      <th>rozdział</th>\n      <td>147</td>\n    </tr>\n    <tr>\n      <th>tkanina</th>\n      <td>138</td>\n    </tr>\n    <tr>\n      <th>prezes rada minister</th>\n      <td>133</td>\n    </tr>\n    <tr>\n      <th>rada minister</th>\n      <td>128</td>\n    </tr>\n    <tr>\n      <th>minister finanse</th>\n      <td>124</td>\n    </tr>\n    <tr>\n      <th>urząd ochrona państwo</th>\n      <td>121</td>\n    </tr>\n    <tr>\n      <th>efta</th>\n      <td>114</td>\n    </tr>\n    <tr>\n      <th>nawóz</th>\n      <td>112</td>\n    </tr>\n    <tr>\n      <th>iii</th>\n      <td>111</td>\n    </tr>\n    <tr>\n      <th>inspektor nadzór wewnętrzny</th>\n      <td>110</td>\n    </tr>\n    <tr>\n      <th>p2o5</th>\n      <td>110</td>\n    </tr>\n    <tr>\n      <th>art</th>\n      <td>107</td>\n    </tr>\n    <tr>\n      <th>administracja</th>\n      <td>106</td>\n    </tr>\n    <tr>\n      <th>europejski obszar gospodarczy</th>\n      <td>105</td>\n    </tr>\n    <tr>\n      <th>europejski porozumienie</th>\n      <td>104</td>\n    </tr>\n    <tr>\n      <th>wolny handel</th>\n      <td>104</td>\n    </tr>\n    <tr>\n      <th>komisja</th>\n      <td>102</td>\n    </tr>\n    <tr>\n      <th>przepis</th>\n      <td>101</td>\n    </tr>\n    <tr>\n      <th>biuro</th>\n      <td>94</td>\n    </tr>\n    <tr>\n      <th>maszyna</th>\n      <td>93</td>\n    </tr>\n    <tr>\n      <th>minister sprawa wewnętrzny</th>\n      <td>92</td>\n    </tr>\n    <tr>\n      <th>damski</th>\n      <td>91</td>\n    </tr>\n    <tr>\n      <th>opieka społeczny</th>\n      <td>89</td>\n    </tr>\n    <tr>\n      <th>szef urząd ochrona państwo</th>\n      <td>88</td>\n    </tr>\n  </tbody>\n</table>\n</div>"
     },
     "metadata": {},
     "execution_count": 13
    }
   ],
   "source": [
    "pd.set_option('display.max_rows', None)\n",
    "\n",
    "common_named_entities = Counter(named_entities).most_common(50)\n",
    "pd.DataFrame.from_records(common_named_entities,\n",
    "                          columns=[\"named_entity\", \"count\"],\n",
    "                          index=\"named_entity\")"
   ]
  },
  {
   "source": [
    "#### _7\\. Apply the NER algorithm to identify the named entities ... using the n82 model._"
   ],
   "cell_type": "markdown",
   "metadata": {}
  },
  {
   "cell_type": "code",
   "execution_count": 14,
   "metadata": {},
   "outputs": [
    {
     "output_type": "stream",
     "name": "stdout",
     "text": [
      "<?xml version=\"1.0\" encoding=\"UTF-8\"?>\n<!DOCTYPE chunkList SYSTEM \"ccl.dtd\">\n<chunkList>\n <chunk type=\"p\" id=\"ch1\">\n  <sentence id=\"s1\">\n   <tok>\n    <orth>Wczoraj</orth>\n    <lex disamb=\"1\"><base>wczoraj</base><ctag>adv:pos</ctag></lex>\n    <ann chan=\"nam_loc_gpe_city\">0</ann>\n    <ann chan=\"nam_loc_gpe_country\">0</ann>\n   </tok>\n   <tok>\n    <orth>w</orth>\n    <lex disamb=\"1\"><base>w</base><ctag>prep:acc:nwok</ctag></lex>\n    <ann chan=\"nam_loc_gpe_city\">0</ann>\n    <ann chan=\"nam_loc_gpe_country\">0</ann>\n   </tok>\n   <tok>\n    <orth>Krakowie</orth>\n    <lex disamb=\"1\"><base>Krak</base><ctag>subst:pl:nom:m1</ctag></lex>\n    <ann chan=\"nam_loc_gpe_city\" head=\"1\">1</ann>\n    <ann chan=\"nam_loc_gpe_country\">0</ann>\n   </tok>\n   <tok>\n    <orth>miało</orth>\n    <lex disamb=\"1\"><base>mieć</base><ctag>praet:sg:n:imperf</ctag></lex>\n    <ann chan=\"nam_loc_gpe_city\">0</ann>\n    <ann chan=\"nam_loc_gpe_country\">0</ann>\n   </tok>\n   <tok>\n    <orth>miejsce</orth>\n    <lex disamb=\"1\"><base>miejsce</base><ctag>subst:sg:nom:n</ctag></lex>\n    <ann chan=\"nam_loc_gpe_city\">0</ann>\n    <ann chan=\"nam_loc_gpe_country\">0</ann>\n   </tok>\n   <tok>\n    <orth>spotkanie</orth>\n    <lex disamb=\"1\"><base>spotkanie</base><ctag>subst:sg:nom:n</ctag></lex>\n    <ann chan=\"nam_loc_gpe_city\">0</ann>\n    <ann chan=\"nam_loc_gpe_country\">0</ann>\n   </tok>\n   <tok>\n    <orth>prezydentów</orth>\n    <lex disamb=\"1\"><base>prezydent</base><ctag>subst:pl:gen:m1</ctag></lex>\n    <ann chan=\"nam_loc_gpe_city\">0</ann>\n    <ann chan=\"nam_loc_gpe_country\">0</ann>\n   </tok>\n   <tok>\n    <orth>Polski</orth>\n    <lex disamb=\"1\"><base>Polska</base><ctag>subst:sg:gen:f</ctag></lex>\n    <ann chan=\"nam_loc_gpe_city\">0</ann>\n    <ann chan=\"nam_loc_gpe_country\" head=\"1\">1</ann>\n   </tok>\n   <tok>\n    <orth>i</orth>\n    <lex disamb=\"1\"><base>i</base><ctag>conj</ctag></lex>\n    <ann chan=\"nam_loc_gpe_city\">0</ann>\n    <ann chan=\"nam_loc_gpe_country\">0</ann>\n   </tok>\n   <tok>\n    <orth>Stanów</orth>\n    <lex disamb=\"1\"><base>Stany</base><ctag>subst:pl:gen:n</ctag></lex>\n    <ann chan=\"nam_loc_gpe_city\">0</ann>\n    <ann chan=\"nam_loc_gpe_country\" head=\"1\">2</ann>\n   </tok>\n   <tok>\n    <orth>Zjednoczonych</orth>\n    <lex disamb=\"1\"><base>zjednoczyć</base><ctag>ppas:pl:gen:m1:perf:aff</ctag></lex>\n    <ann chan=\"nam_loc_gpe_city\">0</ann>\n    <ann chan=\"nam_loc_gpe_country\">2</ann>\n   </tok>\n   <ns/>\n   <tok>\n    <orth>.</orth>\n    <lex disamb=\"1\"><base>.</base><ctag>interp</ctag></lex>\n    <ann chan=\"nam_loc_gpe_city\">0</ann>\n    <ann chan=\"nam_loc_gpe_country\">0</ann>\n   </tok>\n  </sentence>\n </chunk>\n</chunkList>\n"
     ]
    }
   ],
   "source": [
    "USER='janczyk@student.agh.edu.pl'\n",
    "\n",
    "def clarin_ner_process(text: str, lpmn: str) -> str:\n",
    "    source_file = requests \\\n",
    "        .post(\n",
    "            \"http://ws.clarin-pl.eu/nlprest2/base/upload\",\n",
    "            data=text.encode(\"utf-8\"),\n",
    "            headers={'Content-Type': 'binary/octet-stream'}\n",
    "        ) \\\n",
    "        .text\n",
    "\n",
    "    task_id = requests \\\n",
    "        .post(\n",
    "            \"http://ws.clarin-pl.eu/nlprest2/base/startTask/\",\n",
    "            json={\"user\": USER, \"lpmn\": lpmn, \"file\": source_file}\n",
    "        ) \\\n",
    "        .text\n",
    "\n",
    "    while True:\n",
    "        time.sleep(0.5)\n",
    "\n",
    "        status = requests \\\n",
    "            .get(f\"http://ws.clarin-pl.eu/nlprest2/base/getStatus/{task_id}\") \\\n",
    "            .json()\n",
    "\n",
    "        if status[\"status\"] == \"ERROR\":\n",
    "            raise Exception(f\"Error {data['value']}\")\n",
    "        elif status[\"status\"] == \"DONE\":\n",
    "            processed_file = status[\"value\"][0][\"fileID\"]\n",
    "            break\n",
    "\n",
    "    return requests \\\n",
    "        .get(f\"http://ws.clarin-pl.eu/nlprest2/base/download{processed_file}\") \\\n",
    "        .text\n",
    "    \n",
    "print(\n",
    "    clarin_ner_process(\n",
    "        text=\"Wczoraj w Krakowie miało miejsce spotkanie prezydentów Polski i Stanów Zjednoczonych.\",\n",
    "        lpmn='any2txt|wcrft2|liner2({\"model\":\"n82\"})'\n",
    "    )\n",
    ")"
   ]
  },
  {
   "cell_type": "code",
   "execution_count": 15,
   "metadata": {},
   "outputs": [],
   "source": [
    "# for _, act in tqdm(acts.iterrows()):\n",
    "#     cll = clarin_ner_process(act[\"text\"], lpmn='any2txt|wcrft2|liner2({\"model\":\"n82\"})')\n",
    "#     with open(f\"./ner/{act['id']}.cll\", 'w') as f:\n",
    "#         f.write(cll)"
   ]
  },
  {
   "cell_type": "code",
   "execution_count": 16,
   "metadata": {},
   "outputs": [],
   "source": [
    "class NamedEntity(NamedTuple):\n",
    "    words: str\n",
    "    coarse_grained_type: str\n",
    "    fine_grained_type: str\n",
    "\n",
    "    def __repr__(self):\n",
    "        return f\"{' '.join(self.words)} ({self.coarse_grained_type} {self.fine_grained_type})\"\n",
    "\n",
    "def extract_named_entities_from_cll(filename: str) -> List[NamedEntity]:\n",
    "    result = []\n",
    "    root = ElementTree.parse(filename).getroot()\n",
    "\n",
    "    for sentence in root.iter(\"sentence\"):\n",
    "        current_entities = defaultdict(list)\n",
    "        for token in sentence.findall(\"tok\"):\n",
    "            lemma = token.find(\"lex\").find(\"base\").text\n",
    "            for annotation in token.findall(\"ann\"):\n",
    "                no = int(annotation.text)\n",
    "                class_ = annotation.attrib[\"chan\"]\n",
    "                if no > 0:\n",
    "                    current_entities[(class_, no)].append(lemma)\n",
    "        \n",
    "        result += [\n",
    "            NamedEntity(\n",
    "                words=\" \".join(words),\n",
    "                coarse_grained_type=class_[0:7],\n",
    "                fine_grained_type=class_,\n",
    "            )\n",
    "            for (class_, _), words in current_entities.items()\n",
    "        ]\n",
    "\n",
    "    return result"
   ]
  },
  {
   "cell_type": "code",
   "execution_count": 17,
   "metadata": {},
   "outputs": [
    {
     "output_type": "stream",
     "name": "stderr",
     "text": [
      "100%|██████████| 50/50 [00:36<00:00,  1.38it/s]\n"
     ]
    }
   ],
   "source": [
    "entities = [\n",
    "    entity\n",
    "    for act_id in tqdm(acts[\"id\"])\n",
    "    for entity in extract_named_entities_from_cll(f\"./ner/{act_id}.cll\")\n",
    "]\n",
    "\n",
    "entities_df = pd.DataFrame.from_records(entities, columns=[\"words\", \"coarse_grained_type\", \"fine_grained_type\"])"
   ]
  },
  {
   "source": [
    "#### _8\\. Plot the frequency (histogram) of the coarse-grained classes_"
   ],
   "cell_type": "markdown",
   "metadata": {}
  },
  {
   "cell_type": "code",
   "execution_count": 18,
   "metadata": {},
   "outputs": [
    {
     "output_type": "display_data",
     "data": {
      "text/plain": "<Figure size 432x288 with 1 Axes>",
      "image/svg+xml": "<?xml version=\"1.0\" encoding=\"utf-8\" standalone=\"no\"?>\n<!DOCTYPE svg PUBLIC \"-//W3C//DTD SVG 1.1//EN\"\n  \"http://www.w3.org/Graphics/SVG/1.1/DTD/svg11.dtd\">\n<!-- Created with matplotlib (https://matplotlib.org/) -->\n<svg height=\"288.461875pt\" version=\"1.1\" viewBox=\"0 0 388.0125 288.461875\" width=\"388.0125pt\" xmlns=\"http://www.w3.org/2000/svg\" xmlns:xlink=\"http://www.w3.org/1999/xlink\">\n <defs>\n  <style type=\"text/css\">\n*{stroke-linecap:butt;stroke-linejoin:round;}\n  </style>\n </defs>\n <g id=\"figure_1\">\n  <g id=\"patch_1\">\n   <path d=\"M 0 288.461875 \nL 388.0125 288.461875 \nL 388.0125 0 \nL 0 0 \nz\n\" style=\"fill:none;\"/>\n  </g>\n  <g id=\"axes_1\">\n   <g id=\"patch_2\">\n    <path d=\"M 46.0125 224.64 \nL 380.8125 224.64 \nL 380.8125 7.2 \nL 46.0125 7.2 \nz\n\" style=\"fill:#ffffff;\"/>\n   </g>\n   <g id=\"patch_3\">\n    <path clip-path=\"url(#pcc91f40b9b)\" d=\"M 61.230682 224.64 \nL 88.900103 224.64 \nL 88.900103 17.554286 \nL 61.230682 17.554286 \nz\n\" style=\"fill:#1f77b4;\"/>\n   </g>\n   <g id=\"patch_4\">\n    <path clip-path=\"url(#pcc91f40b9b)\" d=\"M 95.817459 224.64 \nL 123.48688 224.64 \nL 123.48688 156.871513 \nL 95.817459 156.871513 \nz\n\" style=\"fill:#1f77b4;\"/>\n   </g>\n   <g id=\"patch_5\">\n    <path clip-path=\"url(#pcc91f40b9b)\" d=\"M 130.404236 224.64 \nL 158.073657 224.64 \nL 158.073657 191.998143 \nL 130.404236 191.998143 \nz\n\" style=\"fill:#1f77b4;\"/>\n   </g>\n   <g id=\"patch_6\">\n    <path clip-path=\"url(#pcc91f40b9b)\" d=\"M 164.991012 224.64 \nL 192.660434 224.64 \nL 192.660434 210.793227 \nL 164.991012 210.793227 \nz\n\" style=\"fill:#1f77b4;\"/>\n   </g>\n   <g id=\"patch_7\">\n    <path clip-path=\"url(#pcc91f40b9b)\" d=\"M 199.577789 224.64 \nL 227.247211 224.64 \nL 227.247211 212.810778 \nL 199.577789 212.810778 \nz\n\" style=\"fill:#1f77b4;\"/>\n   </g>\n   <g id=\"patch_8\">\n    <path clip-path=\"url(#pcc91f40b9b)\" d=\"M 234.164566 224.64 \nL 261.833988 224.64 \nL 261.833988 216.506083 \nL 234.164566 216.506083 \nz\n\" style=\"fill:#1f77b4;\"/>\n   </g>\n   <g id=\"patch_9\">\n    <path clip-path=\"url(#pcc91f40b9b)\" d=\"M 268.751343 224.64 \nL 296.420764 224.64 \nL 296.420764 221.518105 \nL 268.751343 221.518105 \nz\n\" style=\"fill:#1f77b4;\"/>\n   </g>\n   <g id=\"patch_10\">\n    <path clip-path=\"url(#pcc91f40b9b)\" d=\"M 303.33812 224.64 \nL 331.007541 224.64 \nL 331.007541 224.002879 \nL 303.33812 224.002879 \nz\n\" style=\"fill:#1f77b4;\"/>\n   </g>\n   <g id=\"patch_11\">\n    <path clip-path=\"url(#pcc91f40b9b)\" d=\"M 337.924897 224.64 \nL 365.594318 224.64 \nL 365.594318 224.342677 \nL 337.924897 224.342677 \nz\n\" style=\"fill:#1f77b4;\"/>\n   </g>\n   <g id=\"matplotlib.axis_1\">\n    <g id=\"xtick_1\">\n     <g id=\"line2d_1\">\n      <defs>\n       <path d=\"M 0 0 \nL 0 3.5 \n\" id=\"mde4a8e6940\" style=\"stroke:#000000;stroke-width:0.8;\"/>\n      </defs>\n      <g>\n       <use style=\"stroke:#000000;stroke-width:0.8;\" x=\"75.065393\" xlink:href=\"#mde4a8e6940\" y=\"224.64\"/>\n      </g>\n     </g>\n     <g id=\"text_1\">\n      <!-- nam_org -->\n      <defs>\n       <path d=\"M 54.890625 33.015625 \nL 54.890625 0 \nL 45.90625 0 \nL 45.90625 32.71875 \nQ 45.90625 40.484375 42.875 44.328125 \nQ 39.84375 48.1875 33.796875 48.1875 \nQ 26.515625 48.1875 22.3125 43.546875 \nQ 18.109375 38.921875 18.109375 30.90625 \nL 18.109375 0 \nL 9.078125 0 \nL 9.078125 54.6875 \nL 18.109375 54.6875 \nL 18.109375 46.1875 \nQ 21.34375 51.125 25.703125 53.5625 \nQ 30.078125 56 35.796875 56 \nQ 45.21875 56 50.046875 50.171875 \nQ 54.890625 44.34375 54.890625 33.015625 \nz\n\" id=\"DejaVuSans-110\"/>\n       <path d=\"M 34.28125 27.484375 \nQ 23.390625 27.484375 19.1875 25 \nQ 14.984375 22.515625 14.984375 16.5 \nQ 14.984375 11.71875 18.140625 8.90625 \nQ 21.296875 6.109375 26.703125 6.109375 \nQ 34.1875 6.109375 38.703125 11.40625 \nQ 43.21875 16.703125 43.21875 25.484375 \nL 43.21875 27.484375 \nz\nM 52.203125 31.203125 \nL 52.203125 0 \nL 43.21875 0 \nL 43.21875 8.296875 \nQ 40.140625 3.328125 35.546875 0.953125 \nQ 30.953125 -1.421875 24.3125 -1.421875 \nQ 15.921875 -1.421875 10.953125 3.296875 \nQ 6 8.015625 6 15.921875 \nQ 6 25.140625 12.171875 29.828125 \nQ 18.359375 34.515625 30.609375 34.515625 \nL 43.21875 34.515625 \nL 43.21875 35.40625 \nQ 43.21875 41.609375 39.140625 45 \nQ 35.0625 48.390625 27.6875 48.390625 \nQ 23 48.390625 18.546875 47.265625 \nQ 14.109375 46.140625 10.015625 43.890625 \nL 10.015625 52.203125 \nQ 14.9375 54.109375 19.578125 55.046875 \nQ 24.21875 56 28.609375 56 \nQ 40.484375 56 46.34375 49.84375 \nQ 52.203125 43.703125 52.203125 31.203125 \nz\n\" id=\"DejaVuSans-97\"/>\n       <path d=\"M 52 44.1875 \nQ 55.375 50.25 60.0625 53.125 \nQ 64.75 56 71.09375 56 \nQ 79.640625 56 84.28125 50.015625 \nQ 88.921875 44.046875 88.921875 33.015625 \nL 88.921875 0 \nL 79.890625 0 \nL 79.890625 32.71875 \nQ 79.890625 40.578125 77.09375 44.375 \nQ 74.3125 48.1875 68.609375 48.1875 \nQ 61.625 48.1875 57.5625 43.546875 \nQ 53.515625 38.921875 53.515625 30.90625 \nL 53.515625 0 \nL 44.484375 0 \nL 44.484375 32.71875 \nQ 44.484375 40.625 41.703125 44.40625 \nQ 38.921875 48.1875 33.109375 48.1875 \nQ 26.21875 48.1875 22.15625 43.53125 \nQ 18.109375 38.875 18.109375 30.90625 \nL 18.109375 0 \nL 9.078125 0 \nL 9.078125 54.6875 \nL 18.109375 54.6875 \nL 18.109375 46.1875 \nQ 21.1875 51.21875 25.484375 53.609375 \nQ 29.78125 56 35.6875 56 \nQ 41.65625 56 45.828125 52.96875 \nQ 50 49.953125 52 44.1875 \nz\n\" id=\"DejaVuSans-109\"/>\n       <path d=\"M 50.984375 -16.609375 \nL 50.984375 -23.578125 \nL -0.984375 -23.578125 \nL -0.984375 -16.609375 \nz\n\" id=\"DejaVuSans-95\"/>\n       <path d=\"M 30.609375 48.390625 \nQ 23.390625 48.390625 19.1875 42.75 \nQ 14.984375 37.109375 14.984375 27.296875 \nQ 14.984375 17.484375 19.15625 11.84375 \nQ 23.34375 6.203125 30.609375 6.203125 \nQ 37.796875 6.203125 41.984375 11.859375 \nQ 46.1875 17.53125 46.1875 27.296875 \nQ 46.1875 37.015625 41.984375 42.703125 \nQ 37.796875 48.390625 30.609375 48.390625 \nz\nM 30.609375 56 \nQ 42.328125 56 49.015625 48.375 \nQ 55.71875 40.765625 55.71875 27.296875 \nQ 55.71875 13.875 49.015625 6.21875 \nQ 42.328125 -1.421875 30.609375 -1.421875 \nQ 18.84375 -1.421875 12.171875 6.21875 \nQ 5.515625 13.875 5.515625 27.296875 \nQ 5.515625 40.765625 12.171875 48.375 \nQ 18.84375 56 30.609375 56 \nz\n\" id=\"DejaVuSans-111\"/>\n       <path d=\"M 41.109375 46.296875 \nQ 39.59375 47.171875 37.8125 47.578125 \nQ 36.03125 48 33.890625 48 \nQ 26.265625 48 22.1875 43.046875 \nQ 18.109375 38.09375 18.109375 28.8125 \nL 18.109375 0 \nL 9.078125 0 \nL 9.078125 54.6875 \nL 18.109375 54.6875 \nL 18.109375 46.1875 \nQ 20.953125 51.171875 25.484375 53.578125 \nQ 30.03125 56 36.53125 56 \nQ 37.453125 56 38.578125 55.875 \nQ 39.703125 55.765625 41.0625 55.515625 \nz\n\" id=\"DejaVuSans-114\"/>\n       <path d=\"M 45.40625 27.984375 \nQ 45.40625 37.75 41.375 43.109375 \nQ 37.359375 48.484375 30.078125 48.484375 \nQ 22.859375 48.484375 18.828125 43.109375 \nQ 14.796875 37.75 14.796875 27.984375 \nQ 14.796875 18.265625 18.828125 12.890625 \nQ 22.859375 7.515625 30.078125 7.515625 \nQ 37.359375 7.515625 41.375 12.890625 \nQ 45.40625 18.265625 45.40625 27.984375 \nz\nM 54.390625 6.78125 \nQ 54.390625 -7.171875 48.1875 -13.984375 \nQ 42 -20.796875 29.203125 -20.796875 \nQ 24.46875 -20.796875 20.265625 -20.09375 \nQ 16.0625 -19.390625 12.109375 -17.921875 \nL 12.109375 -9.1875 \nQ 16.0625 -11.328125 19.921875 -12.34375 \nQ 23.78125 -13.375 27.78125 -13.375 \nQ 36.625 -13.375 41.015625 -8.765625 \nQ 45.40625 -4.15625 45.40625 5.171875 \nL 45.40625 9.625 \nQ 42.625 4.78125 38.28125 2.390625 \nQ 33.9375 0 27.875 0 \nQ 17.828125 0 11.671875 7.65625 \nQ 5.515625 15.328125 5.515625 27.984375 \nQ 5.515625 40.671875 11.671875 48.328125 \nQ 17.828125 56 27.875 56 \nQ 33.9375 56 38.28125 53.609375 \nQ 42.625 51.21875 45.40625 46.390625 \nL 45.40625 54.6875 \nL 54.390625 54.6875 \nz\n\" id=\"DejaVuSans-103\"/>\n      </defs>\n      <g transform=\"translate(77.546643 275.249375)rotate(-90)scale(0.1 -0.1)\">\n       <use xlink:href=\"#DejaVuSans-110\"/>\n       <use x=\"63.378906\" xlink:href=\"#DejaVuSans-97\"/>\n       <use x=\"124.658203\" xlink:href=\"#DejaVuSans-109\"/>\n       <use x=\"222.070312\" xlink:href=\"#DejaVuSans-95\"/>\n       <use x=\"272.070312\" xlink:href=\"#DejaVuSans-111\"/>\n       <use x=\"333.251953\" xlink:href=\"#DejaVuSans-114\"/>\n       <use x=\"372.615234\" xlink:href=\"#DejaVuSans-103\"/>\n      </g>\n     </g>\n    </g>\n    <g id=\"xtick_2\">\n     <g id=\"line2d_2\">\n      <g>\n       <use style=\"stroke:#000000;stroke-width:0.8;\" x=\"109.652169\" xlink:href=\"#mde4a8e6940\" y=\"224.64\"/>\n      </g>\n     </g>\n     <g id=\"text_2\">\n      <!-- nam_pro -->\n      <defs>\n       <path d=\"M 18.109375 8.203125 \nL 18.109375 -20.796875 \nL 9.078125 -20.796875 \nL 9.078125 54.6875 \nL 18.109375 54.6875 \nL 18.109375 46.390625 \nQ 20.953125 51.265625 25.265625 53.625 \nQ 29.59375 56 35.59375 56 \nQ 45.5625 56 51.78125 48.09375 \nQ 58.015625 40.1875 58.015625 27.296875 \nQ 58.015625 14.40625 51.78125 6.484375 \nQ 45.5625 -1.421875 35.59375 -1.421875 \nQ 29.59375 -1.421875 25.265625 0.953125 \nQ 20.953125 3.328125 18.109375 8.203125 \nz\nM 48.6875 27.296875 \nQ 48.6875 37.203125 44.609375 42.84375 \nQ 40.53125 48.484375 33.40625 48.484375 \nQ 26.265625 48.484375 22.1875 42.84375 \nQ 18.109375 37.203125 18.109375 27.296875 \nQ 18.109375 17.390625 22.1875 11.75 \nQ 26.265625 6.109375 33.40625 6.109375 \nQ 40.53125 6.109375 44.609375 11.75 \nQ 48.6875 17.390625 48.6875 27.296875 \nz\n\" id=\"DejaVuSans-112\"/>\n      </defs>\n      <g transform=\"translate(112.133419 275.199375)rotate(-90)scale(0.1 -0.1)\">\n       <use xlink:href=\"#DejaVuSans-110\"/>\n       <use x=\"63.378906\" xlink:href=\"#DejaVuSans-97\"/>\n       <use x=\"124.658203\" xlink:href=\"#DejaVuSans-109\"/>\n       <use x=\"222.070312\" xlink:href=\"#DejaVuSans-95\"/>\n       <use x=\"272.070312\" xlink:href=\"#DejaVuSans-112\"/>\n       <use x=\"335.546875\" xlink:href=\"#DejaVuSans-114\"/>\n       <use x=\"374.410156\" xlink:href=\"#DejaVuSans-111\"/>\n      </g>\n     </g>\n    </g>\n    <g id=\"xtick_3\">\n     <g id=\"line2d_3\">\n      <g>\n       <use style=\"stroke:#000000;stroke-width:0.8;\" x=\"144.238946\" xlink:href=\"#mde4a8e6940\" y=\"224.64\"/>\n      </g>\n     </g>\n     <g id=\"text_3\">\n      <!-- nam_loc -->\n      <defs>\n       <path d=\"M 9.421875 75.984375 \nL 18.40625 75.984375 \nL 18.40625 0 \nL 9.421875 0 \nz\n\" id=\"DejaVuSans-108\"/>\n       <path d=\"M 48.78125 52.59375 \nL 48.78125 44.1875 \nQ 44.96875 46.296875 41.140625 47.34375 \nQ 37.3125 48.390625 33.40625 48.390625 \nQ 24.65625 48.390625 19.8125 42.84375 \nQ 14.984375 37.3125 14.984375 27.296875 \nQ 14.984375 17.28125 19.8125 11.734375 \nQ 24.65625 6.203125 33.40625 6.203125 \nQ 37.3125 6.203125 41.140625 7.25 \nQ 44.96875 8.296875 48.78125 10.40625 \nL 48.78125 2.09375 \nQ 45.015625 0.34375 40.984375 -0.53125 \nQ 36.96875 -1.421875 32.421875 -1.421875 \nQ 20.0625 -1.421875 12.78125 6.34375 \nQ 5.515625 14.109375 5.515625 27.296875 \nQ 5.515625 40.671875 12.859375 48.328125 \nQ 20.21875 56 33.015625 56 \nQ 37.15625 56 41.109375 55.140625 \nQ 45.0625 54.296875 48.78125 52.59375 \nz\n\" id=\"DejaVuSans-99\"/>\n      </defs>\n      <g transform=\"translate(146.859259 273.241563)rotate(-90)scale(0.1 -0.1)\">\n       <use xlink:href=\"#DejaVuSans-110\"/>\n       <use x=\"63.378906\" xlink:href=\"#DejaVuSans-97\"/>\n       <use x=\"124.658203\" xlink:href=\"#DejaVuSans-109\"/>\n       <use x=\"222.070312\" xlink:href=\"#DejaVuSans-95\"/>\n       <use x=\"272.070312\" xlink:href=\"#DejaVuSans-108\"/>\n       <use x=\"299.853516\" xlink:href=\"#DejaVuSans-111\"/>\n       <use x=\"361.035156\" xlink:href=\"#DejaVuSans-99\"/>\n      </g>\n     </g>\n    </g>\n    <g id=\"xtick_4\">\n     <g id=\"line2d_4\">\n      <g>\n       <use style=\"stroke:#000000;stroke-width:0.8;\" x=\"178.825723\" xlink:href=\"#mde4a8e6940\" y=\"224.64\"/>\n      </g>\n     </g>\n     <g id=\"text_4\">\n      <!-- nam_liv -->\n      <defs>\n       <path d=\"M 9.421875 54.6875 \nL 18.40625 54.6875 \nL 18.40625 0 \nL 9.421875 0 \nz\nM 9.421875 75.984375 \nL 18.40625 75.984375 \nL 18.40625 64.59375 \nL 9.421875 64.59375 \nz\n\" id=\"DejaVuSans-105\"/>\n       <path d=\"M 2.984375 54.6875 \nL 12.5 54.6875 \nL 29.59375 8.796875 \nL 46.6875 54.6875 \nL 56.203125 54.6875 \nL 35.6875 0 \nL 23.484375 0 \nz\n\" id=\"DejaVuSans-118\"/>\n      </defs>\n      <g transform=\"translate(181.446036 270.32125)rotate(-90)scale(0.1 -0.1)\">\n       <use xlink:href=\"#DejaVuSans-110\"/>\n       <use x=\"63.378906\" xlink:href=\"#DejaVuSans-97\"/>\n       <use x=\"124.658203\" xlink:href=\"#DejaVuSans-109\"/>\n       <use x=\"222.070312\" xlink:href=\"#DejaVuSans-95\"/>\n       <use x=\"272.070312\" xlink:href=\"#DejaVuSans-108\"/>\n       <use x=\"299.853516\" xlink:href=\"#DejaVuSans-105\"/>\n       <use x=\"327.636719\" xlink:href=\"#DejaVuSans-118\"/>\n      </g>\n     </g>\n    </g>\n    <g id=\"xtick_5\">\n     <g id=\"line2d_5\">\n      <g>\n       <use style=\"stroke:#000000;stroke-width:0.8;\" x=\"213.4125\" xlink:href=\"#mde4a8e6940\" y=\"224.64\"/>\n      </g>\n     </g>\n     <g id=\"text_5\">\n      <!-- nam_oth -->\n      <defs>\n       <path d=\"M 18.3125 70.21875 \nL 18.3125 54.6875 \nL 36.8125 54.6875 \nL 36.8125 47.703125 \nL 18.3125 47.703125 \nL 18.3125 18.015625 \nQ 18.3125 11.328125 20.140625 9.421875 \nQ 21.96875 7.515625 27.59375 7.515625 \nL 36.8125 7.515625 \nL 36.8125 0 \nL 27.59375 0 \nQ 17.1875 0 13.234375 3.875 \nQ 9.28125 7.765625 9.28125 18.015625 \nL 9.28125 47.703125 \nL 2.6875 47.703125 \nL 2.6875 54.6875 \nL 9.28125 54.6875 \nL 9.28125 70.21875 \nz\n\" id=\"DejaVuSans-116\"/>\n       <path d=\"M 54.890625 33.015625 \nL 54.890625 0 \nL 45.90625 0 \nL 45.90625 32.71875 \nQ 45.90625 40.484375 42.875 44.328125 \nQ 39.84375 48.1875 33.796875 48.1875 \nQ 26.515625 48.1875 22.3125 43.546875 \nQ 18.109375 38.921875 18.109375 30.90625 \nL 18.109375 0 \nL 9.078125 0 \nL 9.078125 75.984375 \nL 18.109375 75.984375 \nL 18.109375 46.1875 \nQ 21.34375 51.125 25.703125 53.5625 \nQ 30.078125 56 35.796875 56 \nQ 45.21875 56 50.046875 50.171875 \nQ 54.890625 44.34375 54.890625 33.015625 \nz\n\" id=\"DejaVuSans-104\"/>\n      </defs>\n      <g transform=\"translate(216.032813 275.222813)rotate(-90)scale(0.1 -0.1)\">\n       <use xlink:href=\"#DejaVuSans-110\"/>\n       <use x=\"63.378906\" xlink:href=\"#DejaVuSans-97\"/>\n       <use x=\"124.658203\" xlink:href=\"#DejaVuSans-109\"/>\n       <use x=\"222.070312\" xlink:href=\"#DejaVuSans-95\"/>\n       <use x=\"272.070312\" xlink:href=\"#DejaVuSans-111\"/>\n       <use x=\"333.251953\" xlink:href=\"#DejaVuSans-116\"/>\n       <use x=\"372.460938\" xlink:href=\"#DejaVuSans-104\"/>\n      </g>\n     </g>\n    </g>\n    <g id=\"xtick_6\">\n     <g id=\"line2d_6\">\n      <g>\n       <use style=\"stroke:#000000;stroke-width:0.8;\" x=\"247.999277\" xlink:href=\"#mde4a8e6940\" y=\"224.64\"/>\n      </g>\n     </g>\n     <g id=\"text_6\">\n      <!-- nam_adj -->\n      <defs>\n       <path d=\"M 45.40625 46.390625 \nL 45.40625 75.984375 \nL 54.390625 75.984375 \nL 54.390625 0 \nL 45.40625 0 \nL 45.40625 8.203125 \nQ 42.578125 3.328125 38.25 0.953125 \nQ 33.9375 -1.421875 27.875 -1.421875 \nQ 17.96875 -1.421875 11.734375 6.484375 \nQ 5.515625 14.40625 5.515625 27.296875 \nQ 5.515625 40.1875 11.734375 48.09375 \nQ 17.96875 56 27.875 56 \nQ 33.9375 56 38.25 53.625 \nQ 42.578125 51.265625 45.40625 46.390625 \nz\nM 14.796875 27.296875 \nQ 14.796875 17.390625 18.875 11.75 \nQ 22.953125 6.109375 30.078125 6.109375 \nQ 37.203125 6.109375 41.296875 11.75 \nQ 45.40625 17.390625 45.40625 27.296875 \nQ 45.40625 37.203125 41.296875 42.84375 \nQ 37.203125 48.484375 30.078125 48.484375 \nQ 22.953125 48.484375 18.875 42.84375 \nQ 14.796875 37.203125 14.796875 27.296875 \nz\n\" id=\"DejaVuSans-100\"/>\n       <path d=\"M 9.421875 54.6875 \nL 18.40625 54.6875 \nL 18.40625 -0.984375 \nQ 18.40625 -11.421875 14.421875 -16.109375 \nQ 10.453125 -20.796875 1.609375 -20.796875 \nL -1.8125 -20.796875 \nL -1.8125 -13.1875 \nL 0.59375 -13.1875 \nQ 5.71875 -13.1875 7.5625 -10.8125 \nQ 9.421875 -8.453125 9.421875 -0.984375 \nz\nM 9.421875 75.984375 \nL 18.40625 75.984375 \nL 18.40625 64.59375 \nL 9.421875 64.59375 \nz\n\" id=\"DejaVuSans-106\"/>\n      </defs>\n      <g transform=\"translate(250.619589 274.100938)rotate(-90)scale(0.1 -0.1)\">\n       <use xlink:href=\"#DejaVuSans-110\"/>\n       <use x=\"63.378906\" xlink:href=\"#DejaVuSans-97\"/>\n       <use x=\"124.658203\" xlink:href=\"#DejaVuSans-109\"/>\n       <use x=\"222.070312\" xlink:href=\"#DejaVuSans-95\"/>\n       <use x=\"272.070312\" xlink:href=\"#DejaVuSans-97\"/>\n       <use x=\"333.349609\" xlink:href=\"#DejaVuSans-100\"/>\n       <use x=\"396.826172\" xlink:href=\"#DejaVuSans-106\"/>\n      </g>\n     </g>\n    </g>\n    <g id=\"xtick_7\">\n     <g id=\"line2d_7\">\n      <g>\n       <use style=\"stroke:#000000;stroke-width:0.8;\" x=\"282.586054\" xlink:href=\"#mde4a8e6940\" y=\"224.64\"/>\n      </g>\n     </g>\n     <g id=\"text_7\">\n      <!-- nam_fac -->\n      <defs>\n       <path d=\"M 37.109375 75.984375 \nL 37.109375 68.5 \nL 28.515625 68.5 \nQ 23.6875 68.5 21.796875 66.546875 \nQ 19.921875 64.59375 19.921875 59.515625 \nL 19.921875 54.6875 \nL 34.71875 54.6875 \nL 34.71875 47.703125 \nL 19.921875 47.703125 \nL 19.921875 0 \nL 10.890625 0 \nL 10.890625 47.703125 \nL 2.296875 47.703125 \nL 2.296875 54.6875 \nL 10.890625 54.6875 \nL 10.890625 58.5 \nQ 10.890625 67.625 15.140625 71.796875 \nQ 19.390625 75.984375 28.609375 75.984375 \nz\n\" id=\"DejaVuSans-102\"/>\n      </defs>\n      <g transform=\"translate(285.206366 273.993125)rotate(-90)scale(0.1 -0.1)\">\n       <use xlink:href=\"#DejaVuSans-110\"/>\n       <use x=\"63.378906\" xlink:href=\"#DejaVuSans-97\"/>\n       <use x=\"124.658203\" xlink:href=\"#DejaVuSans-109\"/>\n       <use x=\"222.070312\" xlink:href=\"#DejaVuSans-95\"/>\n       <use x=\"272.070312\" xlink:href=\"#DejaVuSans-102\"/>\n       <use x=\"307.275391\" xlink:href=\"#DejaVuSans-97\"/>\n       <use x=\"368.554688\" xlink:href=\"#DejaVuSans-99\"/>\n      </g>\n     </g>\n    </g>\n    <g id=\"xtick_8\">\n     <g id=\"line2d_8\">\n      <g>\n       <use style=\"stroke:#000000;stroke-width:0.8;\" x=\"317.172831\" xlink:href=\"#mde4a8e6940\" y=\"224.64\"/>\n      </g>\n     </g>\n     <g id=\"text_8\">\n      <!-- nam_eve -->\n      <defs>\n       <path d=\"M 56.203125 29.59375 \nL 56.203125 25.203125 \nL 14.890625 25.203125 \nQ 15.484375 15.921875 20.484375 11.0625 \nQ 25.484375 6.203125 34.421875 6.203125 \nQ 39.59375 6.203125 44.453125 7.46875 \nQ 49.3125 8.734375 54.109375 11.28125 \nL 54.109375 2.78125 \nQ 49.265625 0.734375 44.1875 -0.34375 \nQ 39.109375 -1.421875 33.890625 -1.421875 \nQ 20.796875 -1.421875 13.15625 6.1875 \nQ 5.515625 13.8125 5.515625 26.8125 \nQ 5.515625 40.234375 12.765625 48.109375 \nQ 20.015625 56 32.328125 56 \nQ 43.359375 56 49.78125 48.890625 \nQ 56.203125 41.796875 56.203125 29.59375 \nz\nM 47.21875 32.234375 \nQ 47.125 39.59375 43.09375 43.984375 \nQ 39.0625 48.390625 32.421875 48.390625 \nQ 24.90625 48.390625 20.390625 44.140625 \nQ 15.875 39.890625 15.1875 32.171875 \nz\n\" id=\"DejaVuSans-101\"/>\n      </defs>\n      <g transform=\"translate(319.654081 277.07125)rotate(-90)scale(0.1 -0.1)\">\n       <use xlink:href=\"#DejaVuSans-110\"/>\n       <use x=\"63.378906\" xlink:href=\"#DejaVuSans-97\"/>\n       <use x=\"124.658203\" xlink:href=\"#DejaVuSans-109\"/>\n       <use x=\"222.070312\" xlink:href=\"#DejaVuSans-95\"/>\n       <use x=\"272.070312\" xlink:href=\"#DejaVuSans-101\"/>\n       <use x=\"333.59375\" xlink:href=\"#DejaVuSans-118\"/>\n       <use x=\"392.773438\" xlink:href=\"#DejaVuSans-101\"/>\n      </g>\n     </g>\n    </g>\n    <g id=\"xtick_9\">\n     <g id=\"line2d_9\">\n      <g>\n       <use style=\"stroke:#000000;stroke-width:0.8;\" x=\"351.759607\" xlink:href=\"#mde4a8e6940\" y=\"224.64\"/>\n      </g>\n     </g>\n     <g id=\"text_9\">\n      <!-- nam_num -->\n      <defs>\n       <path d=\"M 8.5 21.578125 \nL 8.5 54.6875 \nL 17.484375 54.6875 \nL 17.484375 21.921875 \nQ 17.484375 14.15625 20.5 10.265625 \nQ 23.53125 6.390625 29.59375 6.390625 \nQ 36.859375 6.390625 41.078125 11.03125 \nQ 45.3125 15.671875 45.3125 23.6875 \nL 45.3125 54.6875 \nL 54.296875 54.6875 \nL 54.296875 0 \nL 45.3125 0 \nL 45.3125 8.40625 \nQ 42.046875 3.421875 37.71875 1 \nQ 33.40625 -1.421875 27.6875 -1.421875 \nQ 18.265625 -1.421875 13.375 4.4375 \nQ 8.5 10.296875 8.5 21.578125 \nz\nM 31.109375 56 \nz\n\" id=\"DejaVuSans-117\"/>\n      </defs>\n      <g transform=\"translate(354.240857 281.261875)rotate(-90)scale(0.1 -0.1)\">\n       <use xlink:href=\"#DejaVuSans-110\"/>\n       <use x=\"63.378906\" xlink:href=\"#DejaVuSans-97\"/>\n       <use x=\"124.658203\" xlink:href=\"#DejaVuSans-109\"/>\n       <use x=\"222.070312\" xlink:href=\"#DejaVuSans-95\"/>\n       <use x=\"272.070312\" xlink:href=\"#DejaVuSans-110\"/>\n       <use x=\"335.449219\" xlink:href=\"#DejaVuSans-117\"/>\n       <use x=\"398.828125\" xlink:href=\"#DejaVuSans-109\"/>\n      </g>\n     </g>\n    </g>\n   </g>\n   <g id=\"matplotlib.axis_2\">\n    <g id=\"ytick_1\">\n     <g id=\"line2d_10\">\n      <defs>\n       <path d=\"M 0 0 \nL -3.5 0 \n\" id=\"md971562ccf\" style=\"stroke:#000000;stroke-width:0.8;\"/>\n      </defs>\n      <g>\n       <use style=\"stroke:#000000;stroke-width:0.8;\" x=\"46.0125\" xlink:href=\"#md971562ccf\" y=\"224.64\"/>\n      </g>\n     </g>\n     <g id=\"text_10\">\n      <!-- 0 -->\n      <defs>\n       <path d=\"M 31.78125 66.40625 \nQ 24.171875 66.40625 20.328125 58.90625 \nQ 16.5 51.421875 16.5 36.375 \nQ 16.5 21.390625 20.328125 13.890625 \nQ 24.171875 6.390625 31.78125 6.390625 \nQ 39.453125 6.390625 43.28125 13.890625 \nQ 47.125 21.390625 47.125 36.375 \nQ 47.125 51.421875 43.28125 58.90625 \nQ 39.453125 66.40625 31.78125 66.40625 \nz\nM 31.78125 74.21875 \nQ 44.046875 74.21875 50.515625 64.515625 \nQ 56.984375 54.828125 56.984375 36.375 \nQ 56.984375 17.96875 50.515625 8.265625 \nQ 44.046875 -1.421875 31.78125 -1.421875 \nQ 19.53125 -1.421875 13.0625 8.265625 \nQ 6.59375 17.96875 6.59375 36.375 \nQ 6.59375 54.828125 13.0625 64.515625 \nQ 19.53125 74.21875 31.78125 74.21875 \nz\n\" id=\"DejaVuSans-48\"/>\n      </defs>\n      <g transform=\"translate(32.65 228.439219)scale(0.1 -0.1)\">\n       <use xlink:href=\"#DejaVuSans-48\"/>\n      </g>\n     </g>\n    </g>\n    <g id=\"ytick_2\">\n     <g id=\"line2d_11\">\n      <g>\n       <use style=\"stroke:#000000;stroke-width:0.8;\" x=\"46.0125\" xlink:href=\"#md971562ccf\" y=\"182.165236\"/>\n      </g>\n     </g>\n     <g id=\"text_11\">\n      <!-- 2000 -->\n      <defs>\n       <path d=\"M 19.1875 8.296875 \nL 53.609375 8.296875 \nL 53.609375 0 \nL 7.328125 0 \nL 7.328125 8.296875 \nQ 12.9375 14.109375 22.625 23.890625 \nQ 32.328125 33.6875 34.8125 36.53125 \nQ 39.546875 41.84375 41.421875 45.53125 \nQ 43.3125 49.21875 43.3125 52.78125 \nQ 43.3125 58.59375 39.234375 62.25 \nQ 35.15625 65.921875 28.609375 65.921875 \nQ 23.96875 65.921875 18.8125 64.3125 \nQ 13.671875 62.703125 7.8125 59.421875 \nL 7.8125 69.390625 \nQ 13.765625 71.78125 18.9375 73 \nQ 24.125 74.21875 28.421875 74.21875 \nQ 39.75 74.21875 46.484375 68.546875 \nQ 53.21875 62.890625 53.21875 53.421875 \nQ 53.21875 48.921875 51.53125 44.890625 \nQ 49.859375 40.875 45.40625 35.40625 \nQ 44.1875 33.984375 37.640625 27.21875 \nQ 31.109375 20.453125 19.1875 8.296875 \nz\n\" id=\"DejaVuSans-50\"/>\n      </defs>\n      <g transform=\"translate(13.5625 185.964454)scale(0.1 -0.1)\">\n       <use xlink:href=\"#DejaVuSans-50\"/>\n       <use x=\"63.623047\" xlink:href=\"#DejaVuSans-48\"/>\n       <use x=\"127.246094\" xlink:href=\"#DejaVuSans-48\"/>\n       <use x=\"190.869141\" xlink:href=\"#DejaVuSans-48\"/>\n      </g>\n     </g>\n    </g>\n    <g id=\"ytick_3\">\n     <g id=\"line2d_12\">\n      <g>\n       <use style=\"stroke:#000000;stroke-width:0.8;\" x=\"46.0125\" xlink:href=\"#md971562ccf\" y=\"139.690471\"/>\n      </g>\n     </g>\n     <g id=\"text_12\">\n      <!-- 4000 -->\n      <defs>\n       <path d=\"M 37.796875 64.3125 \nL 12.890625 25.390625 \nL 37.796875 25.390625 \nz\nM 35.203125 72.90625 \nL 47.609375 72.90625 \nL 47.609375 25.390625 \nL 58.015625 25.390625 \nL 58.015625 17.1875 \nL 47.609375 17.1875 \nL 47.609375 0 \nL 37.796875 0 \nL 37.796875 17.1875 \nL 4.890625 17.1875 \nL 4.890625 26.703125 \nz\n\" id=\"DejaVuSans-52\"/>\n      </defs>\n      <g transform=\"translate(13.5625 143.48969)scale(0.1 -0.1)\">\n       <use xlink:href=\"#DejaVuSans-52\"/>\n       <use x=\"63.623047\" xlink:href=\"#DejaVuSans-48\"/>\n       <use x=\"127.246094\" xlink:href=\"#DejaVuSans-48\"/>\n       <use x=\"190.869141\" xlink:href=\"#DejaVuSans-48\"/>\n      </g>\n     </g>\n    </g>\n    <g id=\"ytick_4\">\n     <g id=\"line2d_13\">\n      <g>\n       <use style=\"stroke:#000000;stroke-width:0.8;\" x=\"46.0125\" xlink:href=\"#md971562ccf\" y=\"97.215707\"/>\n      </g>\n     </g>\n     <g id=\"text_13\">\n      <!-- 6000 -->\n      <defs>\n       <path d=\"M 33.015625 40.375 \nQ 26.375 40.375 22.484375 35.828125 \nQ 18.609375 31.296875 18.609375 23.390625 \nQ 18.609375 15.53125 22.484375 10.953125 \nQ 26.375 6.390625 33.015625 6.390625 \nQ 39.65625 6.390625 43.53125 10.953125 \nQ 47.40625 15.53125 47.40625 23.390625 \nQ 47.40625 31.296875 43.53125 35.828125 \nQ 39.65625 40.375 33.015625 40.375 \nz\nM 52.59375 71.296875 \nL 52.59375 62.3125 \nQ 48.875 64.0625 45.09375 64.984375 \nQ 41.3125 65.921875 37.59375 65.921875 \nQ 27.828125 65.921875 22.671875 59.328125 \nQ 17.53125 52.734375 16.796875 39.40625 \nQ 19.671875 43.65625 24.015625 45.921875 \nQ 28.375 48.1875 33.59375 48.1875 \nQ 44.578125 48.1875 50.953125 41.515625 \nQ 57.328125 34.859375 57.328125 23.390625 \nQ 57.328125 12.15625 50.6875 5.359375 \nQ 44.046875 -1.421875 33.015625 -1.421875 \nQ 20.359375 -1.421875 13.671875 8.265625 \nQ 6.984375 17.96875 6.984375 36.375 \nQ 6.984375 53.65625 15.1875 63.9375 \nQ 23.390625 74.21875 37.203125 74.21875 \nQ 40.921875 74.21875 44.703125 73.484375 \nQ 48.484375 72.75 52.59375 71.296875 \nz\n\" id=\"DejaVuSans-54\"/>\n      </defs>\n      <g transform=\"translate(13.5625 101.014925)scale(0.1 -0.1)\">\n       <use xlink:href=\"#DejaVuSans-54\"/>\n       <use x=\"63.623047\" xlink:href=\"#DejaVuSans-48\"/>\n       <use x=\"127.246094\" xlink:href=\"#DejaVuSans-48\"/>\n       <use x=\"190.869141\" xlink:href=\"#DejaVuSans-48\"/>\n      </g>\n     </g>\n    </g>\n    <g id=\"ytick_5\">\n     <g id=\"line2d_14\">\n      <g>\n       <use style=\"stroke:#000000;stroke-width:0.8;\" x=\"46.0125\" xlink:href=\"#md971562ccf\" y=\"54.740942\"/>\n      </g>\n     </g>\n     <g id=\"text_14\">\n      <!-- 8000 -->\n      <defs>\n       <path d=\"M 31.78125 34.625 \nQ 24.75 34.625 20.71875 30.859375 \nQ 16.703125 27.09375 16.703125 20.515625 \nQ 16.703125 13.921875 20.71875 10.15625 \nQ 24.75 6.390625 31.78125 6.390625 \nQ 38.8125 6.390625 42.859375 10.171875 \nQ 46.921875 13.96875 46.921875 20.515625 \nQ 46.921875 27.09375 42.890625 30.859375 \nQ 38.875 34.625 31.78125 34.625 \nz\nM 21.921875 38.8125 \nQ 15.578125 40.375 12.03125 44.71875 \nQ 8.5 49.078125 8.5 55.328125 \nQ 8.5 64.0625 14.71875 69.140625 \nQ 20.953125 74.21875 31.78125 74.21875 \nQ 42.671875 74.21875 48.875 69.140625 \nQ 55.078125 64.0625 55.078125 55.328125 \nQ 55.078125 49.078125 51.53125 44.71875 \nQ 48 40.375 41.703125 38.8125 \nQ 48.828125 37.15625 52.796875 32.3125 \nQ 56.78125 27.484375 56.78125 20.515625 \nQ 56.78125 9.90625 50.3125 4.234375 \nQ 43.84375 -1.421875 31.78125 -1.421875 \nQ 19.734375 -1.421875 13.25 4.234375 \nQ 6.78125 9.90625 6.78125 20.515625 \nQ 6.78125 27.484375 10.78125 32.3125 \nQ 14.796875 37.15625 21.921875 38.8125 \nz\nM 18.3125 54.390625 \nQ 18.3125 48.734375 21.84375 45.5625 \nQ 25.390625 42.390625 31.78125 42.390625 \nQ 38.140625 42.390625 41.71875 45.5625 \nQ 45.3125 48.734375 45.3125 54.390625 \nQ 45.3125 60.0625 41.71875 63.234375 \nQ 38.140625 66.40625 31.78125 66.40625 \nQ 25.390625 66.40625 21.84375 63.234375 \nQ 18.3125 60.0625 18.3125 54.390625 \nz\n\" id=\"DejaVuSans-56\"/>\n      </defs>\n      <g transform=\"translate(13.5625 58.540161)scale(0.1 -0.1)\">\n       <use xlink:href=\"#DejaVuSans-56\"/>\n       <use x=\"63.623047\" xlink:href=\"#DejaVuSans-48\"/>\n       <use x=\"127.246094\" xlink:href=\"#DejaVuSans-48\"/>\n       <use x=\"190.869141\" xlink:href=\"#DejaVuSans-48\"/>\n      </g>\n     </g>\n    </g>\n    <g id=\"ytick_6\">\n     <g id=\"line2d_15\">\n      <g>\n       <use style=\"stroke:#000000;stroke-width:0.8;\" x=\"46.0125\" xlink:href=\"#md971562ccf\" y=\"12.266178\"/>\n      </g>\n     </g>\n     <g id=\"text_15\">\n      <!-- 10000 -->\n      <defs>\n       <path d=\"M 12.40625 8.296875 \nL 28.515625 8.296875 \nL 28.515625 63.921875 \nL 10.984375 60.40625 \nL 10.984375 69.390625 \nL 28.421875 72.90625 \nL 38.28125 72.90625 \nL 38.28125 8.296875 \nL 54.390625 8.296875 \nL 54.390625 0 \nL 12.40625 0 \nz\n\" id=\"DejaVuSans-49\"/>\n      </defs>\n      <g transform=\"translate(7.2 16.065396)scale(0.1 -0.1)\">\n       <use xlink:href=\"#DejaVuSans-49\"/>\n       <use x=\"63.623047\" xlink:href=\"#DejaVuSans-48\"/>\n       <use x=\"127.246094\" xlink:href=\"#DejaVuSans-48\"/>\n       <use x=\"190.869141\" xlink:href=\"#DejaVuSans-48\"/>\n       <use x=\"254.492188\" xlink:href=\"#DejaVuSans-48\"/>\n      </g>\n     </g>\n    </g>\n   </g>\n   <g id=\"patch_12\">\n    <path d=\"M 46.0125 224.64 \nL 46.0125 7.2 \n\" style=\"fill:none;stroke:#000000;stroke-linecap:square;stroke-linejoin:miter;stroke-width:0.8;\"/>\n   </g>\n   <g id=\"patch_13\">\n    <path d=\"M 380.8125 224.64 \nL 380.8125 7.2 \n\" style=\"fill:none;stroke:#000000;stroke-linecap:square;stroke-linejoin:miter;stroke-width:0.8;\"/>\n   </g>\n   <g id=\"patch_14\">\n    <path d=\"M 46.0125 224.64 \nL 380.8125 224.64 \n\" style=\"fill:none;stroke:#000000;stroke-linecap:square;stroke-linejoin:miter;stroke-width:0.8;\"/>\n   </g>\n   <g id=\"patch_15\">\n    <path d=\"M 46.0125 7.2 \nL 380.8125 7.2 \n\" style=\"fill:none;stroke:#000000;stroke-linecap:square;stroke-linejoin:miter;stroke-width:0.8;\"/>\n   </g>\n   <g id=\"text_16\">\n    <!-- 9751 -->\n    <defs>\n     <path d=\"M 10.984375 1.515625 \nL 10.984375 10.5 \nQ 14.703125 8.734375 18.5 7.8125 \nQ 22.3125 6.890625 25.984375 6.890625 \nQ 35.75 6.890625 40.890625 13.453125 \nQ 46.046875 20.015625 46.78125 33.40625 \nQ 43.953125 29.203125 39.59375 26.953125 \nQ 35.25 24.703125 29.984375 24.703125 \nQ 19.046875 24.703125 12.671875 31.3125 \nQ 6.296875 37.9375 6.296875 49.421875 \nQ 6.296875 60.640625 12.9375 67.421875 \nQ 19.578125 74.21875 30.609375 74.21875 \nQ 43.265625 74.21875 49.921875 64.515625 \nQ 56.59375 54.828125 56.59375 36.375 \nQ 56.59375 19.140625 48.40625 8.859375 \nQ 40.234375 -1.421875 26.421875 -1.421875 \nQ 22.703125 -1.421875 18.890625 -0.6875 \nQ 15.09375 0.046875 10.984375 1.515625 \nz\nM 30.609375 32.421875 \nQ 37.25 32.421875 41.125 36.953125 \nQ 45.015625 41.5 45.015625 49.421875 \nQ 45.015625 57.28125 41.125 61.84375 \nQ 37.25 66.40625 30.609375 66.40625 \nQ 23.96875 66.40625 20.09375 61.84375 \nQ 16.21875 57.28125 16.21875 49.421875 \nQ 16.21875 41.5 20.09375 36.953125 \nQ 23.96875 32.421875 30.609375 32.421875 \nz\n\" id=\"DejaVuSans-57\"/>\n     <path d=\"M 8.203125 72.90625 \nL 55.078125 72.90625 \nL 55.078125 68.703125 \nL 28.609375 0 \nL 18.3125 0 \nL 43.21875 64.59375 \nL 8.203125 64.59375 \nz\n\" id=\"DejaVuSans-55\"/>\n     <path d=\"M 10.796875 72.90625 \nL 49.515625 72.90625 \nL 49.515625 64.59375 \nL 19.828125 64.59375 \nL 19.828125 46.734375 \nQ 21.96875 47.46875 24.109375 47.828125 \nQ 26.265625 48.1875 28.421875 48.1875 \nQ 40.625 48.1875 47.75 41.5 \nQ 54.890625 34.8125 54.890625 23.390625 \nQ 54.890625 11.625 47.5625 5.09375 \nQ 40.234375 -1.421875 26.90625 -1.421875 \nQ 22.3125 -1.421875 17.546875 -0.640625 \nQ 12.796875 0.140625 7.71875 1.703125 \nL 7.71875 11.625 \nQ 12.109375 9.234375 16.796875 8.0625 \nQ 21.484375 6.890625 26.703125 6.890625 \nQ 35.15625 6.890625 40.078125 11.328125 \nQ 45.015625 15.765625 45.015625 23.390625 \nQ 45.015625 31 40.078125 35.4375 \nQ 35.15625 39.890625 26.703125 39.890625 \nQ 22.75 39.890625 18.8125 39.015625 \nQ 14.890625 38.140625 10.796875 36.28125 \nz\n\" id=\"DejaVuSans-53\"/>\n    </defs>\n    <g transform=\"translate(62.340393 15.474598)scale(0.1 -0.1)\">\n     <use xlink:href=\"#DejaVuSans-57\"/>\n     <use x=\"63.623047\" xlink:href=\"#DejaVuSans-55\"/>\n     <use x=\"127.246094\" xlink:href=\"#DejaVuSans-53\"/>\n     <use x=\"190.869141\" xlink:href=\"#DejaVuSans-49\"/>\n    </g>\n   </g>\n   <g id=\"text_17\">\n    <!-- 3191 -->\n    <defs>\n     <path d=\"M 40.578125 39.3125 \nQ 47.65625 37.796875 51.625 33 \nQ 55.609375 28.21875 55.609375 21.1875 \nQ 55.609375 10.40625 48.1875 4.484375 \nQ 40.765625 -1.421875 27.09375 -1.421875 \nQ 22.515625 -1.421875 17.65625 -0.515625 \nQ 12.796875 0.390625 7.625 2.203125 \nL 7.625 11.71875 \nQ 11.71875 9.328125 16.59375 8.109375 \nQ 21.484375 6.890625 26.8125 6.890625 \nQ 36.078125 6.890625 40.9375 10.546875 \nQ 45.796875 14.203125 45.796875 21.1875 \nQ 45.796875 27.640625 41.28125 31.265625 \nQ 36.765625 34.90625 28.71875 34.90625 \nL 20.21875 34.90625 \nL 20.21875 43.015625 \nL 29.109375 43.015625 \nQ 36.375 43.015625 40.234375 45.921875 \nQ 44.09375 48.828125 44.09375 54.296875 \nQ 44.09375 59.90625 40.109375 62.90625 \nQ 36.140625 65.921875 28.71875 65.921875 \nQ 24.65625 65.921875 20.015625 65.03125 \nQ 15.375 64.15625 9.8125 62.3125 \nL 9.8125 71.09375 \nQ 15.4375 72.65625 20.34375 73.4375 \nQ 25.25 74.21875 29.59375 74.21875 \nQ 40.828125 74.21875 47.359375 69.109375 \nQ 53.90625 64.015625 53.90625 55.328125 \nQ 53.90625 49.265625 50.4375 45.09375 \nQ 46.96875 40.921875 40.578125 39.3125 \nz\n\" id=\"DejaVuSans-51\"/>\n    </defs>\n    <g transform=\"translate(96.927169 154.791826)scale(0.1 -0.1)\">\n     <use xlink:href=\"#DejaVuSans-51\"/>\n     <use x=\"63.623047\" xlink:href=\"#DejaVuSans-49\"/>\n     <use x=\"127.246094\" xlink:href=\"#DejaVuSans-57\"/>\n     <use x=\"190.869141\" xlink:href=\"#DejaVuSans-49\"/>\n    </g>\n   </g>\n   <g id=\"text_18\">\n    <!-- 1537 -->\n    <g transform=\"translate(131.513946 189.918456)scale(0.1 -0.1)\">\n     <use xlink:href=\"#DejaVuSans-49\"/>\n     <use x=\"63.623047\" xlink:href=\"#DejaVuSans-53\"/>\n     <use x=\"127.246094\" xlink:href=\"#DejaVuSans-51\"/>\n     <use x=\"190.869141\" xlink:href=\"#DejaVuSans-55\"/>\n    </g>\n   </g>\n   <g id=\"text_19\">\n    <!-- 652 -->\n    <g transform=\"translate(169.281973 208.713539)scale(0.1 -0.1)\">\n     <use xlink:href=\"#DejaVuSans-54\"/>\n     <use x=\"63.623047\" xlink:href=\"#DejaVuSans-53\"/>\n     <use x=\"127.246094\" xlink:href=\"#DejaVuSans-50\"/>\n    </g>\n   </g>\n   <g id=\"text_20\">\n    <!-- 557 -->\n    <g transform=\"translate(203.86875 210.731091)scale(0.1 -0.1)\">\n     <use xlink:href=\"#DejaVuSans-53\"/>\n     <use x=\"63.623047\" xlink:href=\"#DejaVuSans-53\"/>\n     <use x=\"127.246094\" xlink:href=\"#DejaVuSans-55\"/>\n    </g>\n   </g>\n   <g id=\"text_21\">\n    <!-- 383 -->\n    <g transform=\"translate(238.455527 214.426395)scale(0.1 -0.1)\">\n     <use xlink:href=\"#DejaVuSans-51\"/>\n     <use x=\"63.623047\" xlink:href=\"#DejaVuSans-56\"/>\n     <use x=\"127.246094\" xlink:href=\"#DejaVuSans-51\"/>\n    </g>\n   </g>\n   <g id=\"text_22\">\n    <!-- 147 -->\n    <g transform=\"translate(273.042304 219.438417)scale(0.1 -0.1)\">\n     <use xlink:href=\"#DejaVuSans-49\"/>\n     <use x=\"63.623047\" xlink:href=\"#DejaVuSans-52\"/>\n     <use x=\"127.246094\" xlink:href=\"#DejaVuSans-55\"/>\n    </g>\n   </g>\n   <g id=\"text_23\">\n    <!-- 30 -->\n    <g transform=\"translate(310.810331 221.923191)scale(0.1 -0.1)\">\n     <use xlink:href=\"#DejaVuSans-51\"/>\n     <use x=\"63.623047\" xlink:href=\"#DejaVuSans-48\"/>\n    </g>\n   </g>\n   <g id=\"text_24\">\n    <!-- 14 -->\n    <g transform=\"translate(345.397107 222.262989)scale(0.1 -0.1)\">\n     <use xlink:href=\"#DejaVuSans-49\"/>\n     <use x=\"63.623047\" xlink:href=\"#DejaVuSans-52\"/>\n    </g>\n   </g>\n  </g>\n </g>\n <defs>\n  <clipPath id=\"pcc91f40b9b\">\n   <rect height=\"217.44\" width=\"334.8\" x=\"46.0125\" y=\"7.2\"/>\n  </clipPath>\n </defs>\n</svg>\n",
      "image/png": "[encoded data removed]"
     },
     "metadata": {
      "needs_background": "light"
     }
    }
   ],
   "source": [
    "coarse_grained_type_frequency = (\n",
    "    entities_df\n",
    "        .groupby(\"coarse_grained_type\")\n",
    "        .size()\n",
    "        .sort_values(ascending=False)\n",
    ")\n",
    "\n",
    "rects = plt.bar(\n",
    "    coarse_grained_type_frequency.index,\n",
    "    coarse_grained_type_frequency.values\n",
    ")\n",
    "plt.xticks(rotation=\"vertical\")\n",
    "for rect in rects:\n",
    "    height = rect.get_height()\n",
    "    plt.annotate(\n",
    "        str(height),\n",
    "        xy=(rect.get_x() + rect.get_width() / 2, height),\n",
    "        xytext=(0, 0),\n",
    "        textcoords=\"offset points\",\n",
    "        ha='center', va='bottom'\n",
    "    )\n"
   ]
  },
  {
   "source": [
    "#### _9\\. Display 10 most frequent Named Entities for each coarse-grained type._"
   ],
   "cell_type": "markdown",
   "metadata": {}
  },
  {
   "cell_type": "code",
   "execution_count": 19,
   "metadata": {},
   "outputs": [
    {
     "output_type": "execute_result",
     "data": {
      "text/plain": [
       "                                                                                count\n",
       "coarse_grained_type words                               fine_grained_type            \n",
       "nam_adj             polski                              nam_adj_country           204\n",
       "                    wojewódzki                          nam_adj_country            20\n",
       "                    europejski                          nam_adj_other              15\n",
       "                    mazowiecki                          nam_adj_other               7\n",
       "                    internetowy                         nam_adj_other               5\n",
       "                    macierzyński                        nam_adj_country             3\n",
       "                    warszawski                          nam_adj_city                3\n",
       "                    afrykański                          nam_adj_country             2\n",
       "                    brzeski                             nam_adj_country             2\n",
       "                    chełmiński                          nam_adj_country             2\n",
       "nam_eve             euro                                nam_eve_human_sport         5\n",
       "                    maksymalny limit pozostałość        nam_eve_human               3\n",
       "                    monitor sądowy                      nam_eve_human_sport         2\n",
       "                    przejściowy plan krajowy            nam_eve_human               2\n",
       "                    II wojna światowy                   nam_eve_other               1\n",
       "                    R5 recykling                        nam_eve_human               1\n",
       "                    X . opieka domowy nad dziecko       nam_eve_human               1\n",
       "                    europejski kart społeczny           nam_eve_human_sport         1\n",
       "                    generalny konserwator zabytek       nam_eve_human               1\n",
       "                    inspektor nadzór wewnętrzny         nam_eve_human               1\n",
       "nam_fac             inspektor nadzór wewnętrzny         nam_fac_goe                50\n",
       "                    komendant główny                    nam_fac_goe                16\n",
       "                    straż graniczny                     nam_fac_goe                13\n",
       "                    mangan                              nam_fac_goe                 8\n",
       "                    obrona narodowy                     nam_fac_goe                 6\n",
       "                    krajowy rejestr karny               nam_fac_goe                 5\n",
       "                    molibden                            nam_fac_goe                 4\n",
       "                    zasłużony dawca przeszczep          nam_fac_goe                 4\n",
       "                    zatoka gdańska                      nam_fac_goe                 4\n",
       "                    MN                                  nam_fac_goe                 3\n",
       "nam_liv             kasa chora                          nam_liv_person            109\n",
       "                    Pan                                 nam_liv_god                38\n",
       "                    straż graniczny                     nam_liv_person             36\n",
       "                    krajowy depozyt                     nam_liv_person             25\n",
       "                    siła zbrojny                        nam_liv_person             24\n",
       "                    Art                                 nam_liv_person             18\n",
       "                    gospodarka żywnościowy              nam_liv_person             16\n",
       "                    główny inspektor                    nam_liv_person             16\n",
       "                    najwyższy                           nam_liv_person             13\n",
       "                    główny lekarz weterynaria           nam_liv_person             11\n",
       "nam_loc             rzeczpospolita polski               nam_loc_gpe_country       812\n",
       "                    Rzeczpospolita Polska               nam_loc_gpe_country        91\n",
       "                    Polska                              nam_loc_gpe_country        72\n",
       "                    Warszawa                            nam_loc_gpe_city           70\n",
       "                    nawóz                               nam_loc_gpe_city           28\n",
       "                    konfederacja szwajcarski            nam_loc_gpe_country        14\n",
       "                    rejestr                             nam_loc_gpe_city            8\n",
       "                    Londyn                              nam_loc_gpe_city            7\n",
       "                    mazowiecki                          nam_loc_gpe_admin1          7\n",
       "                    Bruksela                            nam_loc_gpe_city            6\n",
       "nam_num             1                                   nam_num_house              13\n",
       "                    112                                 nam_num_phone               1\n",
       "nam_org             skarb państwo                       nam_org_institution       410\n",
       "                    minister sprawiedliwość             nam_org_institution       322\n",
       "                    unia europejski                     nam_org_organization      296\n",
       "                    minister obrona narodowy            nam_org_institution       287\n",
       "                    rada minister                       nam_org_institution       279\n",
       "                    państwowy komisja wyborczy          nam_org_institution       267\n",
       "                    prezes rad minister                 nam_org_institution       264\n",
       "                    minister finanse                    nam_org_institution       234\n",
       "                    państwowy straż pożarny             nam_org_organization      225\n",
       "                    prezes urząd                        nam_org_institution       201\n",
       "nam_oth             złoty                               nam_oth_currency          334\n",
       "                    euro                                nam_oth_currency          118\n",
       "                    PESEL                               nam_oth_tech               14\n",
       "                    bat                                 nam_oth_tech               11\n",
       "                    nowy_polski_złoty                   nam_oth_currency           10\n",
       "                    minister edukacja narodowy          nam_oth_position            8\n",
       "                    ECU                                 nam_oth_currency            7\n",
       "                    NIP                                 nam_oth_tech                7\n",
       "                    Internet                            nam_oth_tech                5\n",
       "                    VIII                                nam_oth_tech                5\n",
       "nam_pro             Dzieje_(Apostolskie) . u .          nam_pro_media_periodic   1097\n",
       "                    dziennik . u .                      nam_pro_media_periodic    438\n",
       "                    dziennik . URz                      nam_pro_media_periodic     80\n",
       "                    ordynacja podatkowy                 nam_pro_title_document     78\n",
       "                    kodeks karny                        nam_pro_title_document     68\n",
       "                    monitor Polska                      nam_pro_title              62\n",
       "                    sprawa wewnętrzny                   nam_pro_title              51\n",
       "                    kodeks postępowanie cywilny         nam_pro_title_document     41\n",
       "                    kodeks postępowanie administracyjny nam_pro_title_document     40\n",
       "                    kodeks postępowanie karny           nam_pro_title_document     36"
      ],
      "text/html": "<div>\n<style scoped>\n    .dataframe tbody tr th:only-of-type {\n        vertical-align: middle;\n    }\n\n    .dataframe tbody tr th {\n        vertical-align: top;\n    }\n\n    .dataframe thead th {\n        text-align: right;\n    }\n</style>\n<table border=\"1\" class=\"dataframe\">\n  <thead>\n    <tr style=\"text-align: right;\">\n      <th></th>\n      <th></th>\n      <th></th>\n      <th>count</th>\n    </tr>\n    <tr>\n      <th>coarse_grained_type</th>\n      <th>words</th>\n      <th>fine_grained_type</th>\n      <th></th>\n    </tr>\n  </thead>\n  <tbody>\n    <tr>\n      <th rowspan=\"10\" valign=\"top\">nam_adj</th>\n      <th>polski</th>\n      <th>nam_adj_country</th>\n      <td>204</td>\n    </tr>\n    <tr>\n      <th>wojewódzki</th>\n      <th>nam_adj_country</th>\n      <td>20</td>\n    </tr>\n    <tr>\n      <th>europejski</th>\n      <th>nam_adj_other</th>\n      <td>15</td>\n    </tr>\n    <tr>\n      <th>mazowiecki</th>\n      <th>nam_adj_other</th>\n      <td>7</td>\n    </tr>\n    <tr>\n      <th>internetowy</th>\n      <th>nam_adj_other</th>\n      <td>5</td>\n    </tr>\n    <tr>\n      <th>macierzyński</th>\n      <th>nam_adj_country</th>\n      <td>3</td>\n    </tr>\n    <tr>\n      <th>warszawski</th>\n      <th>nam_adj_city</th>\n      <td>3</td>\n    </tr>\n    <tr>\n      <th>afrykański</th>\n      <th>nam_adj_country</th>\n      <td>2</td>\n    </tr>\n    <tr>\n      <th>brzeski</th>\n      <th>nam_adj_country</th>\n      <td>2</td>\n    </tr>\n    <tr>\n      <th>chełmiński</th>\n      <th>nam_adj_country</th>\n      <td>2</td>\n    </tr>\n    <tr>\n      <th rowspan=\"10\" valign=\"top\">nam_eve</th>\n      <th>euro</th>\n      <th>nam_eve_human_sport</th>\n      <td>5</td>\n    </tr>\n    <tr>\n      <th>maksymalny limit pozostałość</th>\n      <th>nam_eve_human</th>\n      <td>3</td>\n    </tr>\n    <tr>\n      <th>monitor sądowy</th>\n      <th>nam_eve_human_sport</th>\n      <td>2</td>\n    </tr>\n    <tr>\n      <th>przejściowy plan krajowy</th>\n      <th>nam_eve_human</th>\n      <td>2</td>\n    </tr>\n    <tr>\n      <th>II wojna światowy</th>\n      <th>nam_eve_other</th>\n      <td>1</td>\n    </tr>\n    <tr>\n      <th>R5 recykling</th>\n      <th>nam_eve_human</th>\n      <td>1</td>\n    </tr>\n    <tr>\n      <th>X . opieka domowy nad dziecko</th>\n      <th>nam_eve_human</th>\n      <td>1</td>\n    </tr>\n    <tr>\n      <th>europejski kart społeczny</th>\n      <th>nam_eve_human_sport</th>\n      <td>1</td>\n    </tr>\n    <tr>\n      <th>generalny konserwator zabytek</th>\n      <th>nam_eve_human</th>\n      <td>1</td>\n    </tr>\n    <tr>\n      <th>inspektor nadzór wewnętrzny</th>\n      <th>nam_eve_human</th>\n      <td>1</td>\n    </tr>\n    <tr>\n      <th rowspan=\"10\" valign=\"top\">nam_fac</th>\n      <th>inspektor nadzór wewnętrzny</th>\n      <th>nam_fac_goe</th>\n      <td>50</td>\n    </tr>\n    <tr>\n      <th>komendant główny</th>\n      <th>nam_fac_goe</th>\n      <td>16</td>\n    </tr>\n    <tr>\n      <th>straż graniczny</th>\n      <th>nam_fac_goe</th>\n      <td>13</td>\n    </tr>\n    <tr>\n      <th>mangan</th>\n      <th>nam_fac_goe</th>\n      <td>8</td>\n    </tr>\n    <tr>\n      <th>obrona narodowy</th>\n      <th>nam_fac_goe</th>\n      <td>6</td>\n    </tr>\n    <tr>\n      <th>krajowy rejestr karny</th>\n      <th>nam_fac_goe</th>\n      <td>5</td>\n    </tr>\n    <tr>\n      <th>molibden</th>\n      <th>nam_fac_goe</th>\n      <td>4</td>\n    </tr>\n    <tr>\n      <th>zasłużony dawca przeszczep</th>\n      <th>nam_fac_goe</th>\n      <td>4</td>\n    </tr>\n    <tr>\n      <th>zatoka gdańska</th>\n      <th>nam_fac_goe</th>\n      <td>4</td>\n    </tr>\n    <tr>\n      <th>MN</th>\n      <th>nam_fac_goe</th>\n      <td>3</td>\n    </tr>\n    <tr>\n      <th rowspan=\"10\" valign=\"top\">nam_liv</th>\n      <th>kasa chora</th>\n      <th>nam_liv_person</th>\n      <td>109</td>\n    </tr>\n    <tr>\n      <th>Pan</th>\n      <th>nam_liv_god</th>\n      <td>38</td>\n    </tr>\n    <tr>\n      <th>straż graniczny</th>\n      <th>nam_liv_person</th>\n      <td>36</td>\n    </tr>\n    <tr>\n      <th>krajowy depozyt</th>\n      <th>nam_liv_person</th>\n      <td>25</td>\n    </tr>\n    <tr>\n      <th>siła zbrojny</th>\n      <th>nam_liv_person</th>\n      <td>24</td>\n    </tr>\n    <tr>\n      <th>Art</th>\n      <th>nam_liv_person</th>\n      <td>18</td>\n    </tr>\n    <tr>\n      <th>gospodarka żywnościowy</th>\n      <th>nam_liv_person</th>\n      <td>16</td>\n    </tr>\n    <tr>\n      <th>główny inspektor</th>\n      <th>nam_liv_person</th>\n      <td>16</td>\n    </tr>\n    <tr>\n      <th>najwyższy</th>\n      <th>nam_liv_person</th>\n      <td>13</td>\n    </tr>\n    <tr>\n      <th>główny lekarz weterynaria</th>\n      <th>nam_liv_person</th>\n      <td>11</td>\n    </tr>\n    <tr>\n      <th rowspan=\"10\" valign=\"top\">nam_loc</th>\n      <th>rzeczpospolita polski</th>\n      <th>nam_loc_gpe_country</th>\n      <td>812</td>\n    </tr>\n    <tr>\n      <th>Rzeczpospolita Polska</th>\n      <th>nam_loc_gpe_country</th>\n      <td>91</td>\n    </tr>\n    <tr>\n      <th>Polska</th>\n      <th>nam_loc_gpe_country</th>\n      <td>72</td>\n    </tr>\n    <tr>\n      <th>Warszawa</th>\n      <th>nam_loc_gpe_city</th>\n      <td>70</td>\n    </tr>\n    <tr>\n      <th>nawóz</th>\n      <th>nam_loc_gpe_city</th>\n      <td>28</td>\n    </tr>\n    <tr>\n      <th>konfederacja szwajcarski</th>\n      <th>nam_loc_gpe_country</th>\n      <td>14</td>\n    </tr>\n    <tr>\n      <th>rejestr</th>\n      <th>nam_loc_gpe_city</th>\n      <td>8</td>\n    </tr>\n    <tr>\n      <th>Londyn</th>\n      <th>nam_loc_gpe_city</th>\n      <td>7</td>\n    </tr>\n    <tr>\n      <th>mazowiecki</th>\n      <th>nam_loc_gpe_admin1</th>\n      <td>7</td>\n    </tr>\n    <tr>\n      <th>Bruksela</th>\n      <th>nam_loc_gpe_city</th>\n      <td>6</td>\n    </tr>\n    <tr>\n      <th rowspan=\"2\" valign=\"top\">nam_num</th>\n      <th>1</th>\n      <th>nam_num_house</th>\n      <td>13</td>\n    </tr>\n    <tr>\n      <th>112</th>\n      <th>nam_num_phone</th>\n      <td>1</td>\n    </tr>\n    <tr>\n      <th rowspan=\"10\" valign=\"top\">nam_org</th>\n      <th>skarb państwo</th>\n      <th>nam_org_institution</th>\n      <td>410</td>\n    </tr>\n    <tr>\n      <th>minister sprawiedliwość</th>\n      <th>nam_org_institution</th>\n      <td>322</td>\n    </tr>\n    <tr>\n      <th>unia europejski</th>\n      <th>nam_org_organization</th>\n      <td>296</td>\n    </tr>\n    <tr>\n      <th>minister obrona narodowy</th>\n      <th>nam_org_institution</th>\n      <td>287</td>\n    </tr>\n    <tr>\n      <th>rada minister</th>\n      <th>nam_org_institution</th>\n      <td>279</td>\n    </tr>\n    <tr>\n      <th>państwowy komisja wyborczy</th>\n      <th>nam_org_institution</th>\n      <td>267</td>\n    </tr>\n    <tr>\n      <th>prezes rad minister</th>\n      <th>nam_org_institution</th>\n      <td>264</td>\n    </tr>\n    <tr>\n      <th>minister finanse</th>\n      <th>nam_org_institution</th>\n      <td>234</td>\n    </tr>\n    <tr>\n      <th>państwowy straż pożarny</th>\n      <th>nam_org_organization</th>\n      <td>225</td>\n    </tr>\n    <tr>\n      <th>prezes urząd</th>\n      <th>nam_org_institution</th>\n      <td>201</td>\n    </tr>\n    <tr>\n      <th rowspan=\"10\" valign=\"top\">nam_oth</th>\n      <th>złoty</th>\n      <th>nam_oth_currency</th>\n      <td>334</td>\n    </tr>\n    <tr>\n      <th>euro</th>\n      <th>nam_oth_currency</th>\n      <td>118</td>\n    </tr>\n    <tr>\n      <th>PESEL</th>\n      <th>nam_oth_tech</th>\n      <td>14</td>\n    </tr>\n    <tr>\n      <th>bat</th>\n      <th>nam_oth_tech</th>\n      <td>11</td>\n    </tr>\n    <tr>\n      <th>nowy_polski_złoty</th>\n      <th>nam_oth_currency</th>\n      <td>10</td>\n    </tr>\n    <tr>\n      <th>minister edukacja narodowy</th>\n      <th>nam_oth_position</th>\n      <td>8</td>\n    </tr>\n    <tr>\n      <th>ECU</th>\n      <th>nam_oth_currency</th>\n      <td>7</td>\n    </tr>\n    <tr>\n      <th>NIP</th>\n      <th>nam_oth_tech</th>\n      <td>7</td>\n    </tr>\n    <tr>\n      <th>Internet</th>\n      <th>nam_oth_tech</th>\n      <td>5</td>\n    </tr>\n    <tr>\n      <th>VIII</th>\n      <th>nam_oth_tech</th>\n      <td>5</td>\n    </tr>\n    <tr>\n      <th rowspan=\"10\" valign=\"top\">nam_pro</th>\n      <th>Dzieje_(Apostolskie) . u .</th>\n      <th>nam_pro_media_periodic</th>\n      <td>1097</td>\n    </tr>\n    <tr>\n      <th>dziennik . u .</th>\n      <th>nam_pro_media_periodic</th>\n      <td>438</td>\n    </tr>\n    <tr>\n      <th>dziennik . URz</th>\n      <th>nam_pro_media_periodic</th>\n      <td>80</td>\n    </tr>\n    <tr>\n      <th>ordynacja podatkowy</th>\n      <th>nam_pro_title_document</th>\n      <td>78</td>\n    </tr>\n    <tr>\n      <th>kodeks karny</th>\n      <th>nam_pro_title_document</th>\n      <td>68</td>\n    </tr>\n    <tr>\n      <th>monitor Polska</th>\n      <th>nam_pro_title</th>\n      <td>62</td>\n    </tr>\n    <tr>\n      <th>sprawa wewnętrzny</th>\n      <th>nam_pro_title</th>\n      <td>51</td>\n    </tr>\n    <tr>\n      <th>kodeks postępowanie cywilny</th>\n      <th>nam_pro_title_document</th>\n      <td>41</td>\n    </tr>\n    <tr>\n      <th>kodeks postępowanie administracyjny</th>\n      <th>nam_pro_title_document</th>\n      <td>40</td>\n    </tr>\n    <tr>\n      <th>kodeks postępowanie karny</th>\n      <th>nam_pro_title_document</th>\n      <td>36</td>\n    </tr>\n  </tbody>\n</table>\n</div>"
     },
     "metadata": {},
     "execution_count": 19
    }
   ],
   "source": [
    "pd.set_option('display.max_rows', None)\n",
    "\n",
    "entities_df \\\n",
    "    .groupby(\"coarse_grained_type\") \\\n",
    "    .apply(\n",
    "        lambda group: group\n",
    "            .groupby([\"words\", \"fine_grained_type\"])\n",
    "            .size()\n",
    "            .nlargest(10)\n",
    "    ) \\\n",
    "    .to_frame(\"count\")"
   ]
  },
  {
   "source": [
    "#### _10\\. Display 50 most frequent Named Entities including their count and fine-grained type._"
   ],
   "cell_type": "markdown",
   "metadata": {}
  },
  {
   "cell_type": "code",
   "execution_count": 20,
   "metadata": {},
   "outputs": [
    {
     "output_type": "execute_result",
     "data": {
      "text/plain": [
       "                                                                   count\n",
       "words                                      fine_grained_type            \n",
       "Dzieje_(Apostolskie) . u .                 nam_pro_media_periodic   1097\n",
       "rzeczpospolita polski                      nam_loc_gpe_country       812\n",
       "dziennik . u .                             nam_pro_media_periodic    438\n",
       "skarb państwo                              nam_org_institution       410\n",
       "złoty                                      nam_oth_currency          334\n",
       "minister sprawiedliwość                    nam_org_institution       322\n",
       "unia europejski                            nam_org_organization      296\n",
       "minister obrona narodowy                   nam_org_institution       287\n",
       "rada minister                              nam_org_institution       279\n",
       "państwowy komisja wyborczy                 nam_org_institution       267\n",
       "prezes rad minister                        nam_org_institution       264\n",
       "minister finanse                           nam_org_institution       234\n",
       "państwowy straż pożarny                    nam_org_organization      225\n",
       "polski                                     nam_adj_country           204\n",
       "prezes urząd                               nam_org_institution       201\n",
       "urząd patentowy                            nam_org_institution       196\n",
       "urząd ochrona państwo                      nam_org_institution       181\n",
       "euro                                       nam_oth_currency          118\n",
       "sąd najwyższy                              nam_org_institution       116\n",
       "EFTA                                       nam_org_organization      114\n",
       "kasa chora                                 nam_liv_person            109\n",
       "europejski porozumienie o Wolny handel     nam_org_company           103\n",
       "Rzeczpospolita Polska                      nam_loc_gpe_country        91\n",
       "sejm                                       nam_org_institution        91\n",
       "prezes urząd regulacja energetyka          nam_org_institution        86\n",
       "komisja europejski                         nam_org_institution        82\n",
       "minister zdrowie i opieka społeczny        nam_org_institution        82\n",
       "okręg                                      nam_org_organization       81\n",
       "okręgowy komisja wyborczy                  nam_org_institution        81\n",
       "dziennik . URz                             nam_pro_media_periodic     80\n",
       "ordynacja podatkowy                        nam_pro_title_document     78\n",
       "minister sprawa wewnętrzny i administracja nam_org_institution        76\n",
       "Polska                                     nam_loc_gpe_country        72\n",
       "komendant główny straż graniczny           nam_org_institution        72\n",
       "BSWSG                                      nam_org_organization       70\n",
       "Warszawa                                   nam_loc_gpe_city           70\n",
       "zakład ubezpieczenie społeczny             nam_org_institution        70\n",
       "kodeks karny                               nam_pro_title_document     68\n",
       "biuro ochrona rząd                         nam_org_institution        66\n",
       "komendant główny policja                   nam_org_institution        64\n",
       "monitor Polska                             nam_pro_title              62\n",
       "wspólnota europejski                       nam_org_organization       61\n",
       "minister skarb państwo                     nam_org_institution        56\n",
       "w                                          nam_org_organization       55\n",
       "senat                                      nam_org_institution        54\n",
       "główny inspektor farmaceutyczny            nam_org_institution        52\n",
       "minister praca i polityka socjalna         nam_org_institution        52\n",
       "dziennik urzędowy rzeczpospolita polski \"  nam_org_institution        51\n",
       "krajowy biuro wyborczy                     nam_org_institution        51\n",
       "sprawa wewnętrzny                          nam_pro_title              51"
      ],
      "text/html": "<div>\n<style scoped>\n    .dataframe tbody tr th:only-of-type {\n        vertical-align: middle;\n    }\n\n    .dataframe tbody tr th {\n        vertical-align: top;\n    }\n\n    .dataframe thead th {\n        text-align: right;\n    }\n</style>\n<table border=\"1\" class=\"dataframe\">\n  <thead>\n    <tr style=\"text-align: right;\">\n      <th></th>\n      <th></th>\n      <th>count</th>\n    </tr>\n    <tr>\n      <th>words</th>\n      <th>fine_grained_type</th>\n      <th></th>\n    </tr>\n  </thead>\n  <tbody>\n    <tr>\n      <th>Dzieje_(Apostolskie) . u .</th>\n      <th>nam_pro_media_periodic</th>\n      <td>1097</td>\n    </tr>\n    <tr>\n      <th>rzeczpospolita polski</th>\n      <th>nam_loc_gpe_country</th>\n      <td>812</td>\n    </tr>\n    <tr>\n      <th>dziennik . u .</th>\n      <th>nam_pro_media_periodic</th>\n      <td>438</td>\n    </tr>\n    <tr>\n      <th>skarb państwo</th>\n      <th>nam_org_institution</th>\n      <td>410</td>\n    </tr>\n    <tr>\n      <th>złoty</th>\n      <th>nam_oth_currency</th>\n      <td>334</td>\n    </tr>\n    <tr>\n      <th>minister sprawiedliwość</th>\n      <th>nam_org_institution</th>\n      <td>322</td>\n    </tr>\n    <tr>\n      <th>unia europejski</th>\n      <th>nam_org_organization</th>\n      <td>296</td>\n    </tr>\n    <tr>\n      <th>minister obrona narodowy</th>\n      <th>nam_org_institution</th>\n      <td>287</td>\n    </tr>\n    <tr>\n      <th>rada minister</th>\n      <th>nam_org_institution</th>\n      <td>279</td>\n    </tr>\n    <tr>\n      <th>państwowy komisja wyborczy</th>\n      <th>nam_org_institution</th>\n      <td>267</td>\n    </tr>\n    <tr>\n      <th>prezes rad minister</th>\n      <th>nam_org_institution</th>\n      <td>264</td>\n    </tr>\n    <tr>\n      <th>minister finanse</th>\n      <th>nam_org_institution</th>\n      <td>234</td>\n    </tr>\n    <tr>\n      <th>państwowy straż pożarny</th>\n      <th>nam_org_organization</th>\n      <td>225</td>\n    </tr>\n    <tr>\n      <th>polski</th>\n      <th>nam_adj_country</th>\n      <td>204</td>\n    </tr>\n    <tr>\n      <th>prezes urząd</th>\n      <th>nam_org_institution</th>\n      <td>201</td>\n    </tr>\n    <tr>\n      <th>urząd patentowy</th>\n      <th>nam_org_institution</th>\n      <td>196</td>\n    </tr>\n    <tr>\n      <th>urząd ochrona państwo</th>\n      <th>nam_org_institution</th>\n      <td>181</td>\n    </tr>\n    <tr>\n      <th>euro</th>\n      <th>nam_oth_currency</th>\n      <td>118</td>\n    </tr>\n    <tr>\n      <th>sąd najwyższy</th>\n      <th>nam_org_institution</th>\n      <td>116</td>\n    </tr>\n    <tr>\n      <th>EFTA</th>\n      <th>nam_org_organization</th>\n      <td>114</td>\n    </tr>\n    <tr>\n      <th>kasa chora</th>\n      <th>nam_liv_person</th>\n      <td>109</td>\n    </tr>\n    <tr>\n      <th>europejski porozumienie o Wolny handel</th>\n      <th>nam_org_company</th>\n      <td>103</td>\n    </tr>\n    <tr>\n      <th>Rzeczpospolita Polska</th>\n      <th>nam_loc_gpe_country</th>\n      <td>91</td>\n    </tr>\n    <tr>\n      <th>sejm</th>\n      <th>nam_org_institution</th>\n      <td>91</td>\n    </tr>\n    <tr>\n      <th>prezes urząd regulacja energetyka</th>\n      <th>nam_org_institution</th>\n      <td>86</td>\n    </tr>\n    <tr>\n      <th>komisja europejski</th>\n      <th>nam_org_institution</th>\n      <td>82</td>\n    </tr>\n    <tr>\n      <th>minister zdrowie i opieka społeczny</th>\n      <th>nam_org_institution</th>\n      <td>82</td>\n    </tr>\n    <tr>\n      <th>okręg</th>\n      <th>nam_org_organization</th>\n      <td>81</td>\n    </tr>\n    <tr>\n      <th>okręgowy komisja wyborczy</th>\n      <th>nam_org_institution</th>\n      <td>81</td>\n    </tr>\n    <tr>\n      <th>dziennik . URz</th>\n      <th>nam_pro_media_periodic</th>\n      <td>80</td>\n    </tr>\n    <tr>\n      <th>ordynacja podatkowy</th>\n      <th>nam_pro_title_document</th>\n      <td>78</td>\n    </tr>\n    <tr>\n      <th>minister sprawa wewnętrzny i administracja</th>\n      <th>nam_org_institution</th>\n      <td>76</td>\n    </tr>\n    <tr>\n      <th>Polska</th>\n      <th>nam_loc_gpe_country</th>\n      <td>72</td>\n    </tr>\n    <tr>\n      <th>komendant główny straż graniczny</th>\n      <th>nam_org_institution</th>\n      <td>72</td>\n    </tr>\n    <tr>\n      <th>BSWSG</th>\n      <th>nam_org_organization</th>\n      <td>70</td>\n    </tr>\n    <tr>\n      <th>Warszawa</th>\n      <th>nam_loc_gpe_city</th>\n      <td>70</td>\n    </tr>\n    <tr>\n      <th>zakład ubezpieczenie społeczny</th>\n      <th>nam_org_institution</th>\n      <td>70</td>\n    </tr>\n    <tr>\n      <th>kodeks karny</th>\n      <th>nam_pro_title_document</th>\n      <td>68</td>\n    </tr>\n    <tr>\n      <th>biuro ochrona rząd</th>\n      <th>nam_org_institution</th>\n      <td>66</td>\n    </tr>\n    <tr>\n      <th>komendant główny policja</th>\n      <th>nam_org_institution</th>\n      <td>64</td>\n    </tr>\n    <tr>\n      <th>monitor Polska</th>\n      <th>nam_pro_title</th>\n      <td>62</td>\n    </tr>\n    <tr>\n      <th>wspólnota europejski</th>\n      <th>nam_org_organization</th>\n      <td>61</td>\n    </tr>\n    <tr>\n      <th>minister skarb państwo</th>\n      <th>nam_org_institution</th>\n      <td>56</td>\n    </tr>\n    <tr>\n      <th>w</th>\n      <th>nam_org_organization</th>\n      <td>55</td>\n    </tr>\n    <tr>\n      <th>senat</th>\n      <th>nam_org_institution</th>\n      <td>54</td>\n    </tr>\n    <tr>\n      <th>główny inspektor farmaceutyczny</th>\n      <th>nam_org_institution</th>\n      <td>52</td>\n    </tr>\n    <tr>\n      <th>minister praca i polityka socjalna</th>\n      <th>nam_org_institution</th>\n      <td>52</td>\n    </tr>\n    <tr>\n      <th>dziennik urzędowy rzeczpospolita polski \"</th>\n      <th>nam_org_institution</th>\n      <td>51</td>\n    </tr>\n    <tr>\n      <th>krajowy biuro wyborczy</th>\n      <th>nam_org_institution</th>\n      <td>51</td>\n    </tr>\n    <tr>\n      <th>sprawa wewnętrzny</th>\n      <th>nam_pro_title</th>\n      <td>51</td>\n    </tr>\n  </tbody>\n</table>\n</div>"
     },
     "metadata": {},
     "execution_count": 20
    }
   ],
   "source": [
    "pd.set_option('display.max_rows', None)\n",
    "\n",
    "entities_df \\\n",
    "    .groupby([\"words\", \"fine_grained_type\"]) \\\n",
    "    .size() \\\n",
    "    .nlargest(50) \\\n",
    "    .to_frame(\"count\")"
   ]
  },
  {
   "source": [
    "#### _11\\. Answer the following questions:_\n",
    "\n",
    "**i. _Which of the method (counting expressions with capital letters vs. NER) worked better for the task concerned with identification of the proper names?_**\n",
    "\n",
    "NER działa istotnie lepiej. \n",
    "\n",
    "Około połowa z 50 najczęstszych wyników uzyskanych przez algorytm oparty o wielkie litery to wyrazy, które nie są jednostami nazewniczymi.\n",
    "W przypadku NER ten odsetek jest istotnie mniejszy.\n",
    "\n",
    "**ii. _What are the drawbacks of the method based on capital letters?_**\n",
    "\n",
    "Nie obsługuje on poniższych przypadków:\n",
    "* nazwy własne zawierające wyrazy zaczynające się od małych liter (np. \"Minister Zdrowia i Opieki Społecznej\", \"Prawo ochrony środowiska\"),\n",
    "* jednostki nazewnicze występujące na początku zdania,\n",
    "* tekst pisany wielkimi literami (np. \"USTAWA\", \"XXI\"),\n",
    "\n",
    "**iii. _What are the drawbacks of the method based on NER?_**\n",
    "\n",
    "W przypadku korzystania z publicznego API Clarin, głównym problem był czas oczekiwania na przetworzenie tekstów. Czas przetworzenia 50 ustaw wyniósł około 5 godzin. (Aczkolwiek myślę, że można by to rozwiązać uruchamiając algorytm na własnym komputerze/serwerze).\n",
    "\n",
    "**iv. _Which of the coarse-grained NER groups has the best and which has the worst results?\n",
    "Try to justify this observation._**\n",
    "\n",
    "Źle wypadły:\n",
    "* `nam_liv` (nazwy istot żywych) — zostały tam zaklasyfikowane frazy takie jak: \"kasa chorych\", \"Pan\" (sklasyfikowany jako nazwa bóstwa z Mitologii Greckiej), \"krajowy depozyt\".\n",
    "* `nam_eve` (nazwy wydażeń) — z 10 najczęstszych dopasowań większość nie jest wydarzeniami. Szczególnie trudnym przypadkiem jest \"EURO\", które było czasami było klasyfikowane jako nazwa waluty, a czasami jako nazwa wydarzenia sportowego — algorytm nie był w stanie poprawnie wywnioskować znaczenia z kontekstu.\n",
    "\n",
    "Dobrze wypadły: `nam_org` (nazwy organizacji — głównie nazwy własne urzędów i stanowisk) oraz `nam_pro` (głównie nazwy własne dokumentów i czasopism). Te kategorie zawierają dość długie nazwy własne charakterystyczne dla języka prawniczego. W przeciwieństwie do krótkich nazw z innych kategorii (np. wspomniane powyżej \"EURO\" i \"Pan\") mają tylko jedno znaczenie.\n",
    "\n",
    "**v. _Do you think NER is sufficient for identifying different occurrences of the same entity (i.e. consider \"USA\" and \"Stany Zjednoczone\" and \"Stany Zjednoczone Ameryki Północnej\")? If not, can you suggest an algorithm or a tool that would be able to group such names together?_**\n",
    "\n",
    "NER nie daje nam informacji o kanonicznej formie jednostki nazewniczej. W postaci zlematyzowanej mamy \"USA\" i \"stan zjednoczony\". Moglibyśmy użyć słownika synonimów w celu powiązania tych form.\n",
    "\n",
    "**vi. _Can you think of a real world problem that would benefit the most from application of Named Entity Recognition algorithm?_**\n",
    "\n",
    "* Automatyczne generowanie odnośników do definicji nazw własnych w encyklopedii (podobnie do Wikipedii)\n",
    "* Automatyczne generowanie indeksu książki (spisu pojęć użytych w danej książce)"
   ],
   "cell_type": "markdown",
   "metadata": {}
  }
 ]
}