{
 "metadata": {
  "language_info": {
   "codemirror_mode": {
    "name": "ipython",
    "version": 3
   },
   "file_extension": ".py",
   "mimetype": "text/x-python",
   "name": "python",
   "nbconvert_exporter": "python",
   "pygments_lexer": "ipython3",
   "version": "3.8.3-final"
  },
  "orig_nbformat": 2,
  "kernelspec": {
   "name": "python3",
   "display_name": "Python 3"
  }
 },
 "nbformat": 4,
 "nbformat_minor": 2,
 "cells": [
  {
   "source": [
    "Piotr Janczyk\n",
    "\n",
    "PJN\n",
    "\n",
    "# Tagowanie morfosyntaktyczne"
   ],
   "cell_type": "markdown",
   "metadata": {}
  },
  {
   "cell_type": "code",
   "execution_count": 1,
   "metadata": {},
   "outputs": [],
   "source": [
    "import regex\n",
    "import json\n",
    "from glob import glob\n",
    "import requests\n",
    "import pandas as pd\n",
    "from collections import Counter\n",
    "from tqdm import tqdm\n",
    "from typing import List, Tuple, Dict, NamedTuple\n",
    "import numpy as np"
   ]
  },
  {
   "source": [
    "### Wczytanie tekstów ustaw"
   ],
   "cell_type": "markdown",
   "metadata": {}
  },
  {
   "cell_type": "code",
   "execution_count": 2,
   "metadata": {},
   "outputs": [],
   "source": [
    "def read_file(filename: str) -> str:\n",
    "    with open(filename, \"r\") as f:\n",
    "        return f.read()\n",
    "\n",
    "filenames = sorted(glob(\"repo/ustawy-v2/*.txt\"))\n",
    "\n",
    "acts = pd.DataFrame({\n",
    "  \"id\": [regex.match(r\"repo/ustawy-v2/(\\d+_\\d+)\\.txt\", filename).group(1) for filename in filenames],\n",
    "  \"text\": [read_file(filename) for filename in filenames]\n",
    "})"
   ]
  },
  {
   "source": [
    "### Użycie KRNNT2 do tagowania i lematyzacji"
   ],
   "cell_type": "markdown",
   "metadata": {}
  },
  {
   "cell_type": "code",
   "execution_count": 3,
   "metadata": {},
   "outputs": [],
   "source": [
    "def tag_text(text: str) -> str:\n",
    "    response = requests.post(\"http://localhost:9200\", data=text.encode(\"utf-8\"))\n",
    "    return response.content.decode(\"utf-8\")"
   ]
  },
  {
   "cell_type": "code",
   "execution_count": 4,
   "metadata": {},
   "outputs": [],
   "source": [
    "acts[\"tagger_output\"] = [tag_text(text) for text in tqdm(acts[\"text\"])]\n",
    "# acts.to_csv(\"tagged.csv\")\n",
    "# acts = pd.read_csv(\"tagged.csv\", index_col=0)"
   ]
  },
  {
   "cell_type": "code",
   "execution_count": 5,
   "metadata": {},
   "outputs": [
    {
     "output_type": "execute_result",
     "data": {
      "text/plain": [
       "            id                                               text  \\\n",
       "0     1993_599  \\n\\n\\n\\nDz.U. z 1993 r. Nr 129, poz. 599 \\n   ...   \n",
       "1     1993_602  \\n\\n\\n\\nDz.U. z 1993 r. Nr 129, poz. 602 \\n   ...   \n",
       "2     1993_645  \\n\\n\\n\\nDz.U. z 1993 r. Nr 134, poz. 645\\n    ...   \n",
       "3     1993_646  \\n\\n\\n\\nDz.U. z 1993 r. Nr 134, poz. 646\\n    ...   \n",
       "4     1994_150  \\n\\n\\n\\nDz.U. z 1994 r. Nr 40, poz. 150\\n     ...   \n",
       "...        ...                                                ...   \n",
       "1174   2004_96  \\n\\n\\nTekst ustawy\\nprzyjęty przez Senat bez p...   \n",
       "1175  2004_962  \\n\\n\\nTekst ustawy\\nprzyjęty przez Senat bez p...   \n",
       "1176  2004_963  \\n\\n\\n\\nDz.U. z 2004 r. Nr 97, poz. 963\\n     ...   \n",
       "1177  2004_964  \\n\\n\\nTekst ustawy przyjęty przez Senat bez po...   \n",
       "1178   2004_97  \\n\\n\\n\\nDz.U. z 2004 r. Nr 11, poz. 97\\n      ...   \n",
       "\n",
       "                                          tagger_output  \n",
       "0     Dz\\tnone\\n\\tdziennik\\tbrev:pun\\tdisamb\\n.\\tnon...  \n",
       "1     Dz\\tnone\\n\\tdziennik\\tbrev:pun\\tdisamb\\n.\\tnon...  \n",
       "2     Dz\\tnone\\n\\tdziennik\\tbrev:pun\\tdisamb\\n.\\tnon...  \n",
       "3     Dz\\tnone\\n\\tdziennik\\tbrev:pun\\tdisamb\\n.\\tnon...  \n",
       "4     Dz\\tnone\\n\\tdziennik\\tbrev:pun\\tdisamb\\n.\\tnon...  \n",
       "...                                                 ...  \n",
       "1174  Tekst\\tnone\\n\\ttekst\\tsubst:sg:nom:m3\\tdisamb\\...  \n",
       "1175  Tekst\\tnone\\n\\ttekst\\tsubst:sg:nom:m3\\tdisamb\\...  \n",
       "1176  Dz\\tnone\\n\\tdziennik\\tbrev:pun\\tdisamb\\n.\\tnon...  \n",
       "1177  Tekst\\tnone\\n\\ttekst\\tsubst:sg:nom:m3\\tdisamb\\...  \n",
       "1178  Dz\\tnone\\n\\tdziennik\\tbrev:pun\\tdisamb\\n.\\tnon...  \n",
       "\n",
       "[1179 rows x 3 columns]"
      ],
      "text/html": "<div>\n<style scoped>\n    .dataframe tbody tr th:only-of-type {\n        vertical-align: middle;\n    }\n\n    .dataframe tbody tr th {\n        vertical-align: top;\n    }\n\n    .dataframe thead th {\n        text-align: right;\n    }\n</style>\n<table border=\"1\" class=\"dataframe\">\n  <thead>\n    <tr style=\"text-align: right;\">\n      <th></th>\n      <th>id</th>\n      <th>text</th>\n      <th>tagger_output</th>\n    </tr>\n  </thead>\n  <tbody>\n    <tr>\n      <th>0</th>\n      <td>1993_599</td>\n      <td>\\n\\n\\n\\nDz.U. z 1993 r. Nr 129, poz. 599 \\n   ...</td>\n      <td>Dz\\tnone\\n\\tdziennik\\tbrev:pun\\tdisamb\\n.\\tnon...</td>\n    </tr>\n    <tr>\n      <th>1</th>\n      <td>1993_602</td>\n      <td>\\n\\n\\n\\nDz.U. z 1993 r. Nr 129, poz. 602 \\n   ...</td>\n      <td>Dz\\tnone\\n\\tdziennik\\tbrev:pun\\tdisamb\\n.\\tnon...</td>\n    </tr>\n    <tr>\n      <th>2</th>\n      <td>1993_645</td>\n      <td>\\n\\n\\n\\nDz.U. z 1993 r. Nr 134, poz. 645\\n    ...</td>\n      <td>Dz\\tnone\\n\\tdziennik\\tbrev:pun\\tdisamb\\n.\\tnon...</td>\n    </tr>\n    <tr>\n      <th>3</th>\n      <td>1993_646</td>\n      <td>\\n\\n\\n\\nDz.U. z 1993 r. Nr 134, poz. 646\\n    ...</td>\n      <td>Dz\\tnone\\n\\tdziennik\\tbrev:pun\\tdisamb\\n.\\tnon...</td>\n    </tr>\n    <tr>\n      <th>4</th>\n      <td>1994_150</td>\n      <td>\\n\\n\\n\\nDz.U. z 1994 r. Nr 40, poz. 150\\n     ...</td>\n      <td>Dz\\tnone\\n\\tdziennik\\tbrev:pun\\tdisamb\\n.\\tnon...</td>\n    </tr>\n    <tr>\n      <th>...</th>\n      <td>...</td>\n      <td>...</td>\n      <td>...</td>\n    </tr>\n    <tr>\n      <th>1174</th>\n      <td>2004_96</td>\n      <td>\\n\\n\\nTekst ustawy\\nprzyjęty przez Senat bez p...</td>\n      <td>Tekst\\tnone\\n\\ttekst\\tsubst:sg:nom:m3\\tdisamb\\...</td>\n    </tr>\n    <tr>\n      <th>1175</th>\n      <td>2004_962</td>\n      <td>\\n\\n\\nTekst ustawy\\nprzyjęty przez Senat bez p...</td>\n      <td>Tekst\\tnone\\n\\ttekst\\tsubst:sg:nom:m3\\tdisamb\\...</td>\n    </tr>\n    <tr>\n      <th>1176</th>\n      <td>2004_963</td>\n      <td>\\n\\n\\n\\nDz.U. z 2004 r. Nr 97, poz. 963\\n     ...</td>\n      <td>Dz\\tnone\\n\\tdziennik\\tbrev:pun\\tdisamb\\n.\\tnon...</td>\n    </tr>\n    <tr>\n      <th>1177</th>\n      <td>2004_964</td>\n      <td>\\n\\n\\nTekst ustawy przyjęty przez Senat bez po...</td>\n      <td>Tekst\\tnone\\n\\ttekst\\tsubst:sg:nom:m3\\tdisamb\\...</td>\n    </tr>\n    <tr>\n      <th>1178</th>\n      <td>2004_97</td>\n      <td>\\n\\n\\n\\nDz.U. z 2004 r. Nr 11, poz. 97\\n      ...</td>\n      <td>Dz\\tnone\\n\\tdziennik\\tbrev:pun\\tdisamb\\n.\\tnon...</td>\n    </tr>\n  </tbody>\n</table>\n<p>1179 rows × 3 columns</p>\n</div>"
     },
     "metadata": {},
     "execution_count": 5
    }
   ],
   "source": [
    "acts"
   ]
  },
  {
   "source": [
    "### Zliczenie bigramów"
   ],
   "cell_type": "markdown",
   "metadata": {}
  },
  {
   "cell_type": "code",
   "execution_count": 6,
   "metadata": {},
   "outputs": [],
   "source": [
    "tagger_output: str = \"\\n\".join(acts[\"tagger_output\"])"
   ]
  },
  {
   "cell_type": "code",
   "execution_count": 7,
   "metadata": {},
   "outputs": [],
   "source": [
    "class Token(NamedTuple):\n",
    "    word: str\n",
    "    category: str\n",
    "\n",
    "    def __repr__(self):\n",
    "        return self.word + \":\" + self.category\n",
    "\n",
    "def extract_tokens(tagger_output: str) -> List[Token]:\n",
    "    lines = tagger_output.split(\"\\n\")\n",
    "    tokens = [line.strip().split(\"\\t\") for line in lines if line.startswith(\"\\t\")]\n",
    "    tokens = [Token(word=token[0].lower(), category=token[1].split(\":\")[0]) for token in tokens]\n",
    "    return tokens"
   ]
  },
  {
   "cell_type": "code",
   "execution_count": 8,
   "metadata": {},
   "outputs": [],
   "source": [
    "tokens: List[Token] = extract_tokens(tagger_output)"
   ]
  },
  {
   "cell_type": "code",
   "execution_count": 9,
   "metadata": {},
   "outputs": [],
   "source": [
    "Bigram = Tuple[Token, Token]\n",
    "\n",
    "def compute_bigram_statistics(tokens: List[Token]) -> pd.DataFrame:\n",
    "    bigrams = list(zip(tokens[:-1], tokens[1:]))\n",
    "    bigrams = Counter(bigrams)\n",
    "    bigrams = list(sorted(bigrams.items(), key=lambda item: -item[1]))\n",
    "    return pd.DataFrame.from_records(bigrams, columns=[\"bigram\", \"count\"])"
   ]
  },
  {
   "cell_type": "code",
   "execution_count": 10,
   "metadata": {},
   "outputs": [],
   "source": [
    "bigrams = compute_bigram_statistics(tokens)"
   ]
  },
  {
   "cell_type": "code",
   "execution_count": 11,
   "metadata": {},
   "outputs": [
    {
     "output_type": "execute_result",
     "data": {
      "text/plain": [
       "                                         bigram  count\n",
       "0                ((artykuł, brev), (., interp))  83738\n",
       "1                  ((ustęp, brev), (., interp))  53315\n",
       "2                ((pozycja, brev), (., interp))  45197\n",
       "3                ((,, interp), (pozycja, brev))  43168\n",
       "4                       ((., interp), (1, adj))  39986\n",
       "...                                         ...    ...\n",
       "479959              ((ktry, subst), (nie, qub))      1\n",
       "479960             ((23, adj), (zdanie, subst))      1\n",
       "479961      ((nabycie, subst), (środkw, subst))      1\n",
       "479962  ((środkw, subst), (niebezpieczny, adj))      1\n",
       "479963            ((\", interp), (odpad, subst))      1\n",
       "\n",
       "[479964 rows x 2 columns]"
      ],
      "text/html": "<div>\n<style scoped>\n    .dataframe tbody tr th:only-of-type {\n        vertical-align: middle;\n    }\n\n    .dataframe tbody tr th {\n        vertical-align: top;\n    }\n\n    .dataframe thead th {\n        text-align: right;\n    }\n</style>\n<table border=\"1\" class=\"dataframe\">\n  <thead>\n    <tr style=\"text-align: right;\">\n      <th></th>\n      <th>bigram</th>\n      <th>count</th>\n    </tr>\n  </thead>\n  <tbody>\n    <tr>\n      <th>0</th>\n      <td>((artykuł, brev), (., interp))</td>\n      <td>83738</td>\n    </tr>\n    <tr>\n      <th>1</th>\n      <td>((ustęp, brev), (., interp))</td>\n      <td>53315</td>\n    </tr>\n    <tr>\n      <th>2</th>\n      <td>((pozycja, brev), (., interp))</td>\n      <td>45197</td>\n    </tr>\n    <tr>\n      <th>3</th>\n      <td>((,, interp), (pozycja, brev))</td>\n      <td>43168</td>\n    </tr>\n    <tr>\n      <th>4</th>\n      <td>((., interp), (1, adj))</td>\n      <td>39986</td>\n    </tr>\n    <tr>\n      <th>...</th>\n      <td>...</td>\n      <td>...</td>\n    </tr>\n    <tr>\n      <th>479959</th>\n      <td>((ktry, subst), (nie, qub))</td>\n      <td>1</td>\n    </tr>\n    <tr>\n      <th>479960</th>\n      <td>((23, adj), (zdanie, subst))</td>\n      <td>1</td>\n    </tr>\n    <tr>\n      <th>479961</th>\n      <td>((nabycie, subst), (środkw, subst))</td>\n      <td>1</td>\n    </tr>\n    <tr>\n      <th>479962</th>\n      <td>((środkw, subst), (niebezpieczny, adj))</td>\n      <td>1</td>\n    </tr>\n    <tr>\n      <th>479963</th>\n      <td>((\", interp), (odpad, subst))</td>\n      <td>1</td>\n    </tr>\n  </tbody>\n</table>\n<p>479964 rows × 2 columns</p>\n</div>"
     },
     "metadata": {},
     "execution_count": 11
    }
   ],
   "source": [
    "bigrams"
   ]
  },
  {
   "source": [
    "### Odrzucenie bigramów zawierających znaki niebędące literami"
   ],
   "cell_type": "markdown",
   "metadata": {}
  },
  {
   "cell_type": "code",
   "execution_count": 12,
   "metadata": {},
   "outputs": [],
   "source": [
    "def is_letter_only_bigram(bigram: Bigram) -> bool:\n",
    "    letters_only = r\"\\p{L}+\"\n",
    "    return bool(regex.fullmatch(letters_only, bigram[0].word)) and bool(regex.fullmatch(letters_only, bigram[1].word))"
   ]
  },
  {
   "cell_type": "code",
   "execution_count": 13,
   "metadata": {},
   "outputs": [],
   "source": [
    "letter_bigrams = bigrams[bigrams[\"bigram\"].apply(is_letter_only_bigram)].reset_index(drop=True)"
   ]
  },
  {
   "cell_type": "code",
   "execution_count": 14,
   "metadata": {},
   "outputs": [
    {
     "output_type": "execute_result",
     "data": {
      "text/plain": [
       "                                         bigram  count\n",
       "0                  ((w, prep), (artykuł, brev))  32035\n",
       "1                     ((o, prep), (który, adj))  28656\n",
       "2                 ((który, adj), (mowa, subst))  28538\n",
       "3                    ((mowa, subst), (w, prep))  28473\n",
       "4                    ((w, prep), (ustęp, brev))  23536\n",
       "...                                         ...    ...\n",
       "363862    ((dostawa, subst), (produktw, subst))      1\n",
       "363863           ((produktw, subst), (w, prep))      1\n",
       "363864              ((ktry, subst), (nie, qub))      1\n",
       "363865      ((nabycie, subst), (środkw, subst))      1\n",
       "363866  ((środkw, subst), (niebezpieczny, adj))      1\n",
       "\n",
       "[363867 rows x 2 columns]"
      ],
      "text/html": "<div>\n<style scoped>\n    .dataframe tbody tr th:only-of-type {\n        vertical-align: middle;\n    }\n\n    .dataframe tbody tr th {\n        vertical-align: top;\n    }\n\n    .dataframe thead th {\n        text-align: right;\n    }\n</style>\n<table border=\"1\" class=\"dataframe\">\n  <thead>\n    <tr style=\"text-align: right;\">\n      <th></th>\n      <th>bigram</th>\n      <th>count</th>\n    </tr>\n  </thead>\n  <tbody>\n    <tr>\n      <th>0</th>\n      <td>((w, prep), (artykuł, brev))</td>\n      <td>32035</td>\n    </tr>\n    <tr>\n      <th>1</th>\n      <td>((o, prep), (który, adj))</td>\n      <td>28656</td>\n    </tr>\n    <tr>\n      <th>2</th>\n      <td>((który, adj), (mowa, subst))</td>\n      <td>28538</td>\n    </tr>\n    <tr>\n      <th>3</th>\n      <td>((mowa, subst), (w, prep))</td>\n      <td>28473</td>\n    </tr>\n    <tr>\n      <th>4</th>\n      <td>((w, prep), (ustęp, brev))</td>\n      <td>23536</td>\n    </tr>\n    <tr>\n      <th>...</th>\n      <td>...</td>\n      <td>...</td>\n    </tr>\n    <tr>\n      <th>363862</th>\n      <td>((dostawa, subst), (produktw, subst))</td>\n      <td>1</td>\n    </tr>\n    <tr>\n      <th>363863</th>\n      <td>((produktw, subst), (w, prep))</td>\n      <td>1</td>\n    </tr>\n    <tr>\n      <th>363864</th>\n      <td>((ktry, subst), (nie, qub))</td>\n      <td>1</td>\n    </tr>\n    <tr>\n      <th>363865</th>\n      <td>((nabycie, subst), (środkw, subst))</td>\n      <td>1</td>\n    </tr>\n    <tr>\n      <th>363866</th>\n      <td>((środkw, subst), (niebezpieczny, adj))</td>\n      <td>1</td>\n    </tr>\n  </tbody>\n</table>\n<p>363867 rows × 2 columns</p>\n</div>"
     },
     "metadata": {},
     "execution_count": 14
    }
   ],
   "source": [
    "letter_bigrams"
   ]
  },
  {
   "source": [
    "### Policzenie LLR"
   ],
   "cell_type": "markdown",
   "metadata": {}
  },
  {
   "cell_type": "code",
   "execution_count": 15,
   "metadata": {},
   "outputs": [],
   "source": [
    "def entropy(x: np.ndarray) -> float:\n",
    "    x = x.flatten()\n",
    "    x = x[x != 0]\n",
    "    probabilities = x / np.sum(x)\n",
    "    return np.sum(probabilities * np.log(probabilities))\n",
    "\n",
    "def llr(all: int, a: int, b: int, a_and_b: int) -> float:\n",
    "    k = np.array([\n",
    "        [a_and_b, a - a_and_b],\n",
    "        [b - a_and_b, all - a - b + a_and_b]\n",
    "    ])\n",
    "    return 2 * np.sum(k) * (entropy(k) - entropy(np.sum(k, axis=0)) - entropy(np.sum(k, axis=1)))"
   ]
  },
  {
   "cell_type": "code",
   "execution_count": 16,
   "metadata": {},
   "outputs": [],
   "source": [
    "def compute_bigrams_llr(bigrams: pd.DataFrame) -> List[float]:\n",
    "    all_count = bigrams[\"count\"].sum()\n",
    "    df = pd.DataFrame({\n",
    "        \"token1\": [bigram[0] for bigram in bigrams[\"bigram\"]],\n",
    "        \"token2\": [bigram[1] for bigram in bigrams[\"bigram\"]],\n",
    "        \"count\": bigrams[\"count\"],\n",
    "    })\n",
    "    count_by_token1 = df.groupby(\"token1\")[\"count\"].sum()\n",
    "    count_by_token2 = df.groupby(\"token2\")[\"count\"].sum()\n",
    "    return [\n",
    "        llr(\n",
    "            all=all_count,\n",
    "            a=count_by_token1[bigram[0]],\n",
    "            b=count_by_token2[bigram[1]],\n",
    "            a_and_b=count\n",
    "        )\n",
    "        for bigram, count in tqdm(zip(bigrams[\"bigram\"], bigrams[\"count\"]))\n",
    "    ]"
   ]
  },
  {
   "cell_type": "code",
   "execution_count": 17,
   "metadata": {},
   "outputs": [
    {
     "output_type": "stream",
     "name": "stderr",
     "text": [
      "363867it [02:42, 2240.76it/s]\n"
     ]
    }
   ],
   "source": [
    "letter_bigrams[\"llr\"] = compute_bigrams_llr(letter_bigrams)\n",
    "letter_bigrams = letter_bigrams.sort_values(by=\"llr\", ascending=False)"
   ]
  },
  {
   "cell_type": "code",
   "execution_count": 18,
   "metadata": {},
   "outputs": [
    {
     "output_type": "execute_result",
     "data": {
      "text/plain": [
       "                                          bigram  count           llr\n",
       "2                  ((który, adj), (mowa, subst))  28538  2.480508e+05\n",
       "1                      ((o, prep), (który, adj))  28656  1.904906e+05\n",
       "3                     ((mowa, subst), (w, prep))  28473  1.770681e+05\n",
       "0                   ((w, prep), (artykuł, brev))  32035  1.138613e+05\n",
       "6        ((otrzymywać, fin), (brzmienie, subst))  10535  1.107467e+05\n",
       "...                                          ...    ...           ...\n",
       "309367          ((gmina, subst), (teren, subst))      1  1.606023e-08\n",
       "274896       ((rachunek, subst), (zgodnie, adv))      1  1.283288e-08\n",
       "52220          ((i, conj), (wystąpienie, subst))      6  8.262006e-09\n",
       "112408           ((i, conj), (obniżenie, subst))      3  4.743003e-09\n",
       "331837  ((pośrednictwo, subst), (służba, subst))      1  4.267269e-10\n",
       "\n",
       "[363867 rows x 3 columns]"
      ],
      "text/html": "<div>\n<style scoped>\n    .dataframe tbody tr th:only-of-type {\n        vertical-align: middle;\n    }\n\n    .dataframe tbody tr th {\n        vertical-align: top;\n    }\n\n    .dataframe thead th {\n        text-align: right;\n    }\n</style>\n<table border=\"1\" class=\"dataframe\">\n  <thead>\n    <tr style=\"text-align: right;\">\n      <th></th>\n      <th>bigram</th>\n      <th>count</th>\n      <th>llr</th>\n    </tr>\n  </thead>\n  <tbody>\n    <tr>\n      <th>2</th>\n      <td>((który, adj), (mowa, subst))</td>\n      <td>28538</td>\n      <td>2.480508e+05</td>\n    </tr>\n    <tr>\n      <th>1</th>\n      <td>((o, prep), (który, adj))</td>\n      <td>28656</td>\n      <td>1.904906e+05</td>\n    </tr>\n    <tr>\n      <th>3</th>\n      <td>((mowa, subst), (w, prep))</td>\n      <td>28473</td>\n      <td>1.770681e+05</td>\n    </tr>\n    <tr>\n      <th>0</th>\n      <td>((w, prep), (artykuł, brev))</td>\n      <td>32035</td>\n      <td>1.138613e+05</td>\n    </tr>\n    <tr>\n      <th>6</th>\n      <td>((otrzymywać, fin), (brzmienie, subst))</td>\n      <td>10535</td>\n      <td>1.107467e+05</td>\n    </tr>\n    <tr>\n      <th>...</th>\n      <td>...</td>\n      <td>...</td>\n      <td>...</td>\n    </tr>\n    <tr>\n      <th>309367</th>\n      <td>((gmina, subst), (teren, subst))</td>\n      <td>1</td>\n      <td>1.606023e-08</td>\n    </tr>\n    <tr>\n      <th>274896</th>\n      <td>((rachunek, subst), (zgodnie, adv))</td>\n      <td>1</td>\n      <td>1.283288e-08</td>\n    </tr>\n    <tr>\n      <th>52220</th>\n      <td>((i, conj), (wystąpienie, subst))</td>\n      <td>6</td>\n      <td>8.262006e-09</td>\n    </tr>\n    <tr>\n      <th>112408</th>\n      <td>((i, conj), (obniżenie, subst))</td>\n      <td>3</td>\n      <td>4.743003e-09</td>\n    </tr>\n    <tr>\n      <th>331837</th>\n      <td>((pośrednictwo, subst), (służba, subst))</td>\n      <td>1</td>\n      <td>4.267269e-10</td>\n    </tr>\n  </tbody>\n</table>\n<p>363867 rows × 3 columns</p>\n</div>"
     },
     "metadata": {},
     "execution_count": 18
    }
   ],
   "source": [
    "letter_bigrams"
   ]
  },
  {
   "source": [
    "### Podzielenie bigramów wg kategorii morfosyntaktycznych"
   ],
   "cell_type": "markdown",
   "metadata": {}
  },
  {
   "cell_type": "code",
   "execution_count": 19,
   "metadata": {},
   "outputs": [],
   "source": [
    "letter_bigrams[\"partition\"] = letter_bigrams[\"bigram\"].apply(\n",
    "    lambda bigram: (bigram[0].category, bigram[1].category)\n",
    ")"
   ]
  },
  {
   "cell_type": "code",
   "execution_count": 20,
   "metadata": {},
   "outputs": [
    {
     "output_type": "execute_result",
     "data": {
      "text/plain": [
       "                                          bigram  count           llr  \\\n",
       "2                  ((który, adj), (mowa, subst))  28538  2.480508e+05   \n",
       "1                      ((o, prep), (który, adj))  28656  1.904906e+05   \n",
       "3                     ((mowa, subst), (w, prep))  28473  1.770681e+05   \n",
       "0                   ((w, prep), (artykuł, brev))  32035  1.138613e+05   \n",
       "6        ((otrzymywać, fin), (brzmienie, subst))  10535  1.107467e+05   \n",
       "...                                          ...    ...           ...   \n",
       "309367          ((gmina, subst), (teren, subst))      1  1.606023e-08   \n",
       "274896       ((rachunek, subst), (zgodnie, adv))      1  1.283288e-08   \n",
       "52220          ((i, conj), (wystąpienie, subst))      6  8.262006e-09   \n",
       "112408           ((i, conj), (obniżenie, subst))      3  4.743003e-09   \n",
       "331837  ((pośrednictwo, subst), (służba, subst))      1  4.267269e-10   \n",
       "\n",
       "             partition  \n",
       "2         (adj, subst)  \n",
       "1          (prep, adj)  \n",
       "3        (subst, prep)  \n",
       "0         (prep, brev)  \n",
       "6         (fin, subst)  \n",
       "...                ...  \n",
       "309367  (subst, subst)  \n",
       "274896    (subst, adv)  \n",
       "52220    (conj, subst)  \n",
       "112408   (conj, subst)  \n",
       "331837  (subst, subst)  \n",
       "\n",
       "[363867 rows x 4 columns]"
      ],
      "text/html": "<div>\n<style scoped>\n    .dataframe tbody tr th:only-of-type {\n        vertical-align: middle;\n    }\n\n    .dataframe tbody tr th {\n        vertical-align: top;\n    }\n\n    .dataframe thead th {\n        text-align: right;\n    }\n</style>\n<table border=\"1\" class=\"dataframe\">\n  <thead>\n    <tr style=\"text-align: right;\">\n      <th></th>\n      <th>bigram</th>\n      <th>count</th>\n      <th>llr</th>\n      <th>partition</th>\n    </tr>\n  </thead>\n  <tbody>\n    <tr>\n      <th>2</th>\n      <td>((który, adj), (mowa, subst))</td>\n      <td>28538</td>\n      <td>2.480508e+05</td>\n      <td>(adj, subst)</td>\n    </tr>\n    <tr>\n      <th>1</th>\n      <td>((o, prep), (który, adj))</td>\n      <td>28656</td>\n      <td>1.904906e+05</td>\n      <td>(prep, adj)</td>\n    </tr>\n    <tr>\n      <th>3</th>\n      <td>((mowa, subst), (w, prep))</td>\n      <td>28473</td>\n      <td>1.770681e+05</td>\n      <td>(subst, prep)</td>\n    </tr>\n    <tr>\n      <th>0</th>\n      <td>((w, prep), (artykuł, brev))</td>\n      <td>32035</td>\n      <td>1.138613e+05</td>\n      <td>(prep, brev)</td>\n    </tr>\n    <tr>\n      <th>6</th>\n      <td>((otrzymywać, fin), (brzmienie, subst))</td>\n      <td>10535</td>\n      <td>1.107467e+05</td>\n      <td>(fin, subst)</td>\n    </tr>\n    <tr>\n      <th>...</th>\n      <td>...</td>\n      <td>...</td>\n      <td>...</td>\n      <td>...</td>\n    </tr>\n    <tr>\n      <th>309367</th>\n      <td>((gmina, subst), (teren, subst))</td>\n      <td>1</td>\n      <td>1.606023e-08</td>\n      <td>(subst, subst)</td>\n    </tr>\n    <tr>\n      <th>274896</th>\n      <td>((rachunek, subst), (zgodnie, adv))</td>\n      <td>1</td>\n      <td>1.283288e-08</td>\n      <td>(subst, adv)</td>\n    </tr>\n    <tr>\n      <th>52220</th>\n      <td>((i, conj), (wystąpienie, subst))</td>\n      <td>6</td>\n      <td>8.262006e-09</td>\n      <td>(conj, subst)</td>\n    </tr>\n    <tr>\n      <th>112408</th>\n      <td>((i, conj), (obniżenie, subst))</td>\n      <td>3</td>\n      <td>4.743003e-09</td>\n      <td>(conj, subst)</td>\n    </tr>\n    <tr>\n      <th>331837</th>\n      <td>((pośrednictwo, subst), (służba, subst))</td>\n      <td>1</td>\n      <td>4.267269e-10</td>\n      <td>(subst, subst)</td>\n    </tr>\n  </tbody>\n</table>\n<p>363867 rows × 4 columns</p>\n</div>"
     },
     "metadata": {},
     "execution_count": 20
    }
   ],
   "source": [
    "letter_bigrams"
   ]
  },
  {
   "cell_type": "code",
   "execution_count": 27,
   "metadata": {},
   "outputs": [],
   "source": [
    "largest_partitions = letter_bigrams.groupby(\"partition\")[\"count\"].sum().sort_values(ascending=False).head(10)"
   ]
  },
  {
   "cell_type": "code",
   "execution_count": 28,
   "metadata": {},
   "outputs": [
    {
     "output_type": "execute_result",
     "data": {
      "text/plain": [
       "partition\n",
       "(prep, subst)     326526\n",
       "(subst, subst)    292525\n",
       "(subst, adj)      273416\n",
       "(adj, subst)      187562\n",
       "(subst, prep)     173132\n",
       "(subst, conj)      84881\n",
       "(conj, subst)      83923\n",
       "(prep, adj)        79171\n",
       "(ger, subst)       76137\n",
       "(prep, brev)       66877\n",
       "Name: count, dtype: int64"
      ]
     },
     "metadata": {},
     "execution_count": 28
    }
   ],
   "source": [
    "largest_partitions"
   ]
  },
  {
   "source": [
    "### Dla każdego z 10 największych podziałów wypisanie 5 bigramów z największą miarą LLR"
   ],
   "cell_type": "markdown",
   "metadata": {}
  },
  {
   "cell_type": "code",
   "execution_count": 35,
   "metadata": {},
   "outputs": [
    {
     "output_type": "stream",
     "name": "stdout",
     "text": [
      "Partition: prep subst\n",
      " - z dzień  (N: 11360, LLR: 53446)\n",
      " - na podstawa  (N: 6681, LLR: 47053)\n",
      " - do sprawa  (N: 8718, LLR: 46295)\n",
      " - w droga  (N: 7128, LLR: 32014)\n",
      " - od dzień  (N: 5324, LLR: 31546)\n",
      "\n",
      "Partition: subst subst\n",
      " - droga rozporządzenie  (N: 4748, LLR: 53908)\n",
      " - skarb państwo  (N: 1821, LLR: 22069)\n",
      " - rada minister  (N: 2268, LLR: 18324)\n",
      " - terytorium rzeczpospolita  (N: 1224, LLR: 14072)\n",
      " - ochrona środowisko  (N: 1572, LLR: 14017)\n",
      "\n",
      "Partition: subst adj\n",
      " - minister właściwy  (N: 7933, LLR: 70846)\n",
      " - rzeczpospolita polski  (N: 3579, LLR: 41566)\n",
      " - jednostka organizacyjny  (N: 2252, LLR: 24502)\n",
      " - samorząd terytorialny  (N: 1675, LLR: 23387)\n",
      " - produkt leczniczy  (N: 1738, LLR: 21898)\n",
      "\n",
      "Partition: adj subst\n",
      " - który mowa  (N: 28538, LLR: 248051)\n",
      " - niniejszy ustawa  (N: 2364, LLR: 21433)\n",
      " - następujący zmiana  (N: 1624, LLR: 18150)\n",
      " - odrębny przepis  (N: 1449, LLR: 12945)\n",
      " - walny zgromadzenie  (N: 598, LLR: 9630)\n",
      "\n",
      "Partition: subst prep\n",
      " - mowa w  (N: 28473, LLR: 177068)\n",
      " - ustawa z  (N: 8625, LLR: 41880)\n",
      " - wniosek o  (N: 2619, LLR: 15398)\n",
      " - dzień od  (N: 2510, LLR: 13911)\n",
      " - miesiąc od  (N: 1581, LLR: 12301)\n",
      "\n",
      "Partition: subst conj\n",
      " - przecinek i  (N: 645, LLR: 3951)\n",
      " - wolność albo  (N: 323, LLR: 2268)\n",
      " - imię i  (N: 479, LLR: 2191)\n",
      " - całość lub  (N: 377, LLR: 2164)\n",
      " - zasada i  (N: 869, LLR: 1915)\n",
      "\n",
      "Partition: conj subst\n",
      " - i tryb  (N: 1262, LLR: 4697)\n",
      " - i nazwisko  (N: 463, LLR: 2528)\n",
      " - i usługa  (N: 642, LLR: 1878)\n",
      " - i adres  (N: 383, LLR: 1736)\n",
      " - i wychowanie  (N: 272, LLR: 1462)\n",
      "\n",
      "Partition: prep adj\n",
      " - o który  (N: 28656, LLR: 190491)\n",
      " - za każdy  (N: 267, LLR: 1364)\n",
      " - w właściwy  (N: 104, LLR: 1286)\n",
      " - w ten  (N: 2777, LLR: 1284)\n",
      " - przez ten  (N: 653, LLR: 1013)\n",
      "\n",
      "Partition: ger subst\n",
      " - zasięgnąć opinia  (N: 787, LLR: 11520)\n",
      " - pozbawić wolność  (N: 799, LLR: 11322)\n",
      " - wykonywać zawód  (N: 561, LLR: 5568)\n",
      " - zawrzeć umowa  (N: 501, LLR: 5187)\n",
      " - wszcząć postępowanie  (N: 500, LLR: 5143)\n",
      "\n",
      "Partition: prep brev\n",
      " - w artykuł  (N: 32035, LLR: 113861)\n",
      " - w ustęp  (N: 23536, LLR: 88295)\n",
      " - w punkt  (N: 3738, LLR: 10899)\n",
      " - z późniejszy  (N: 1017, LLR: 7556)\n",
      " - po ustęp  (N: 1537, LLR: 4444)\n",
      "\n"
     ]
    }
   ],
   "source": [
    "for partition in largest_partitions.index:\n",
    "    print(f\"Partition: {partition[0]} {partition[1]}\")\n",
    "    for bigram in letter_bigrams[letter_bigrams[\"partition\"] == partition][\"bigram\"].head(5):\n",
    "        count = int(letter_bigrams[letter_bigrams[\"bigram\"] == bigram][\"count\"])\n",
    "        llr = round(float(letter_bigrams[letter_bigrams[\"bigram\"] == bigram][\"llr\"]))\n",
    "        print(f\" - {bigram[0].word} {bigram[1].word}  (N: {count}, LLR: {llr})\")\n",
    "    print()"
   ]
  },
  {
   "source": [
    "### Wnioski\n",
    "\n",
    "1. What types of bigrams have been found?\n",
    "\n",
    "  - Nazwy własne (\"Skarb Państwa\", \"Rada Ministrów\", \"Rzeczpospolita Polska\")\n",
    "  - Kolokacje czasownik+rzeczownik (\"zasięgnąć opinii\", \"pozbawić wolnosci\", \"wszcząć postępowanie\")\n",
    "  - Kolokacje z przyimkiem (\"z dnia\", \"na podstawie\", \"wniosek o\")\n",
    "  - Bigramy zawierające stop words (najczęściej spójniki) (\"przecinek i\", \"wolność albo\", \"i nazwisko\") \n",
    "\n",
    "\n",
    "2. Which of the category-pairs indicate valuable multiword expressions? Do they have anything in common?\n",
    "\n",
    "  Zazwyczaj jednostki wielowyrazowe zawierają rzeczownik lub czasownik.\n",
    "  Na przykład \"subst subst\" oraz \"subst adj\" to często nazwy własne.\n",
    "\n",
    "\n",
    "3. Which signal: LLR score or syntactic category is more useful for determining genuine multiword expressions?\n",
    "\n",
    "  Wiele często występujących bigramów składa się ze spójników i przyimków i nie tworzą one jednostek wielowyrazowych. Filtrując po kategoriach syntaktycznych możemy odrzucić takie przypadki.\n",
    "  Z drugiej strony, bigramy które mają niską miarę LLR (zazwyczaj jest to powiązane z niską liczbą wystąpień), mogą tworzyć przypadkowe pary wyrazów, nie będące jednostkami wielowyrazowymi, ani nawet kolokacjami.\n",
    "Najlepsze wyniki daje uwzględnienie obu czynników.\n",
    "\n",
    "\n",
    "4. Can you describe a different use-case where the morphosyntactic category is useful for resolving a real-world problem?\n",
    "\n",
    "    Przy wyszukiwaniu informacji w tekscie niektóre części mowy (np. rzeczowniki i czasowniki) mają większe znaczenie niż inne (np. spójniki i przyimiki). Odfiltrowanie mniej istotnych kategorii morfosyntaktycznych mogłoby działać podobnie do odfiltrowywania stop words.\n",
    "\n",
    "\n",
    "\n",
    "\n"
   ],
   "cell_type": "markdown",
   "metadata": {}
  }
 ]
}