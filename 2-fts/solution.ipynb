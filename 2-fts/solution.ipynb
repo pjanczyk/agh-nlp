{
 "metadata": {
  "language_info": {
   "codemirror_mode": {
    "name": "ipython",
    "version": 3
   },
   "file_extension": ".py",
   "mimetype": "text/x-python",
   "name": "python",
   "nbconvert_exporter": "python",
   "pygments_lexer": "ipython3",
   "version": "3.8.3-final"
  },
  "orig_nbformat": 2,
  "kernelspec": {
   "name": "Python 3.8.3 64-bit ('base': conda)",
   "display_name": "Python 3.8.3 64-bit ('base': conda)",
   "metadata": {
    "interpreter": {
     "hash": "b89b2edbcf2e3a21df60deb83734754941714c25693d05182f2b96b6de9b1afc"
    }
   }
  }
 },
 "nbformat": 4,
 "nbformat_minor": 2,
 "cells": [
  {
   "source": [
    "# NLP — Full text search\n",
    "\n",
    "Piotr Janczyk"
   ],
   "cell_type": "markdown",
   "metadata": {}
  },
  {
   "cell_type": "code",
   "execution_count": 1,
   "metadata": {},
   "outputs": [],
   "source": [
    "from glob import glob\n",
    "from pathlib import Path\n",
    "import re\n",
    "import requests\n",
    "from tqdm import tqdm\n",
    "import pandas as pd\n",
    "\n",
    "%load_ext restmagic\n",
    "\n",
    "base_url = 'http://localhost:9200'"
   ]
  },
  {
   "cell_type": "code",
   "execution_count": 2,
   "metadata": {},
   "outputs": [
    {
     "output_type": "stream",
     "name": "stdout",
     "text": [
      "Requests defaults are set.\n"
     ]
    }
   ],
   "source": [
    "%%rest_root $base_url\n",
    "Content-Type: application/json"
   ]
  },
  {
   "source": [
    "### _3. Define an ES analyzer for Polish texts \\[...\\]_\n",
    "### _4. Define an ES index for storing the contents of the legislative acts._"
   ],
   "cell_type": "markdown",
   "metadata": {}
  },
  {
   "source": [
    "I'm creating an index `acts` with single property `content` of type `text`.\n",
    "\n",
    "The property uses custom analyzer `act_analyzer` which has filters `lowercase`, `graph_synonyms`, and `morfologik_stem`."
   ],
   "cell_type": "markdown",
   "metadata": {}
  },
  {
   "cell_type": "code",
   "execution_count": 3,
   "metadata": {},
   "outputs": [
    {
     "output_type": "execute_result",
     "data": {
      "text/plain": [
       "<Response [200]>"
      ]
     },
     "metadata": {},
     "execution_count": 3
    }
   ],
   "source": [
    "%rest -q DELETE acts"
   ]
  },
  {
   "cell_type": "code",
   "execution_count": 4,
   "metadata": {},
   "outputs": [
    {
     "output_type": "display_data",
     "data": {
      "text/plain": "{\n  \"acknowledged\": true,\n  \"shards_acknowledged\": true,\n  \"index\": \"acts\"\n}"
     },
     "metadata": {}
    },
    {
     "output_type": "execute_result",
     "data": {
      "text/plain": [
       "<Response [200]>"
      ]
     },
     "metadata": {},
     "execution_count": 4
    }
   ],
   "source": [
    "%%rest PUT acts\n",
    "\n",
    "{\n",
    "  \"settings\": {\n",
    "    \"index\": {\n",
    "      \"analysis\": {\n",
    "        \"analyzer\": {\n",
    "          \"act_analyzer\": {\n",
    "            \"type\": \"custom\",\n",
    "            \"tokenizer\": \"standard\",\n",
    "            \"filter\": [\n",
    "              \"lowercase\",\n",
    "              \"graph_synonyms\",\n",
    "              \"morfologik_stem\"\n",
    "            ]\n",
    "          }\n",
    "        },\n",
    "        \"filter\": {\n",
    "          \"graph_synonyms\": {\n",
    "            \"type\": \"synonym_graph\",\n",
    "            \"synonyms\": [\n",
    "              \"kpk,kodeks postępowania karnego\",\n",
    "              \"kpc,kodeks postępowania cywilnego\",\n",
    "              \"kk,kodeks karny\",\n",
    "              \"kc,kodeks cywilny\"\n",
    "            ]\n",
    "          }\n",
    "        }\n",
    "      }\n",
    "    }\n",
    "  },\n",
    "  \"mappings\": {\n",
    "    \"properties\": {\n",
    "      \"content\": {\n",
    "        \"type\": \"text\",\n",
    "        \"analyzer\": \"act_analyzer\"\n",
    "      }\n",
    "    }\n",
    "  }\n",
    "}"
   ]
  },
  {
   "source": [
    "Example usage of the custom analyzer:"
   ],
   "cell_type": "markdown",
   "metadata": {}
  },
  {
   "cell_type": "code",
   "execution_count": 5,
   "metadata": {},
   "outputs": [
    {
     "output_type": "display_data",
     "data": {
      "text/plain": "{\n  \"tokens\": [\n    {\n      \"token\": \"kodeks\",\n      \"start_offset\": 0,\n      \"end_offset\": 3,\n      \"type\": \"SYNONYM\",\n      \"position\": 0\n    },\n    {\n      \"token\": \"kodeks postępowania cywilnego\",\n      \"start_offset\": 0,\n      \"end_offset\": 3,\n      \"type\": \"<ALPHANUM>\",\n      \"position\": 0,\n      \"positionLength\": 3\n    },\n    {\n      \"token\": \"postępowanie\",\n      \"start_offset\": 0,\n      \"end_offset\": 3,\n      \"type\": \"SYNONYM\",\n      \"position\": 1\n    },\n    {\n      \"token\": \"postępować\",\n      \"start_offset\": 0,\n      \"end_offset\": 3,\n      \"type\": \"SYNONYM\",\n      \"position\": 1\n    },\n    {\n      \"token\": \"cywilny\",\n      \"start_offset\": 0,\n      \"end_offset\": 3,\n      \"type\": \"SYNONYM\",\n      \"position\": 2\n    },\n    {\n      \"token\": \"stanowić\",\n      \"start_offset\": 4,\n      \"end_offset\": 11,\n      \"type\": \"<ALPHANUM>\",\n      \"position\": 3\n    },\n    {\n      \"token\": \"stanowy\",\n      \"start_offset\": 4,\n      \"end_offset\": 11,\n      \"type\": \"<ALPHANUM>\",\n      \"position\": 3\n    },\n    {\n      \"token\": \"stan\",\n      \"start_offset\": 4,\n      \"end_offset\": 11,\n      \"type\": \"<ALPHANUM>\",\n      \"position\": 3\n    },\n    {\n      \"token\": \"że\",\n      \"start_offset\": 13,\n      \"end_offset\": 15,\n      \"type\": \"<ALPHANUM>\",\n      \"position\": 4\n    }\n  ]\n}"
     },
     "metadata": {}
    },
    {
     "output_type": "execute_result",
     "data": {
      "text/plain": [
       "<Response [200]>"
      ]
     },
     "metadata": {},
     "execution_count": 5
    }
   ],
   "source": [
    "%%rest GET acts/_analyze\n",
    "\n",
    "{\n",
    "    \"analyzer\": \"act_analyzer\",\n",
    "    \"text\": \"KPC stanowi, że\"\n",
    "}"
   ]
  },
  {
   "source": [
    "\"KCP\" was correctly converted to lowercase, then matched with the synonym \"kodeks postępowania cywilnego\", and then lematized."
   ],
   "cell_type": "markdown",
   "metadata": {}
  },
  {
   "source": [
    "### _5. Load the data to the ES index._"
   ],
   "cell_type": "markdown",
   "metadata": {}
  },
  {
   "cell_type": "code",
   "execution_count": 6,
   "metadata": {},
   "outputs": [
    {
     "output_type": "stream",
     "name": "stderr",
     "text": [
      "100%|██████████| 1180/1180 [00:47<00:00, 24.90it/s]\n"
     ]
    }
   ],
   "source": [
    "filenames = sorted(glob('repo/ustawy/*.txt'))\n",
    "\n",
    "for filename in tqdm(filenames):\n",
    "    id = re.match(r'.*/(\\d+_\\d+)\\.txt', filename).group(1)\n",
    "    content = Path(filename).read_text()\n",
    "\n",
    "    requests.put(f'{base_url}/acts/_doc/{id}',\n",
    "                 json={'content': content})"
   ]
  },
  {
   "source": [
    "### _6. Determine the number of legislative acts containing the word **ustawa** (in any form)_"
   ],
   "cell_type": "markdown",
   "metadata": {}
  },
  {
   "cell_type": "code",
   "execution_count": 7,
   "metadata": {},
   "outputs": [
    {
     "output_type": "display_data",
     "data": {
      "text/plain": "{\n  \"hits\": {\n    \"total\": {\n      \"value\": 1179\n    },\n    \"hits\": [\n      {\n        \"highlight\": {\n          \"content\": [\n            \"<em>ustawy</em>\",\n            \" \\n<em>ustawa</em>\",\n            \"<em>ustawy</em>\",\n            \"<em>ustaw</em>\",\n            \"<em>ustawie</em>\"\n          ]\n        }\n      },\n      {\n        \"highlight\": {\n          \"content\": [\n            \"<em>ustawy</em>\",\n            \" \\n<em>USTAWA</em>\",\n            \"<em>ustawy</em>\",\n            \"<em>ustaw</em>\",\n            \"<em>ustawie</em>\"\n          ]\n        }\n      }\n    ]\n  }\n}"
     },
     "metadata": {}
    },
    {
     "output_type": "execute_result",
     "data": {
      "text/plain": [
       "<Response [200]>"
      ]
     },
     "metadata": {},
     "execution_count": 7
    }
   ],
   "source": [
    "%%rest GET acts/_search?filter_path=hits.total.value,hits.hits.highlight.content\n",
    "\n",
    "{\n",
    "  \"query\": {\n",
    "    \"match\": {\n",
    "      \"content\": \"ustawa\"\n",
    "    }\n",
    "  },\n",
    "  \"highlight\": {\n",
    "    \"fields\": {\n",
    "      \"content\": {\n",
    "        \"fragment_size\": 1\n",
    "      }\n",
    "    }\n",
    "  },\n",
    "  \"size\": 2\n",
    "}"
   ]
  },
  {
   "source": [
    "Answer:"
   ],
   "cell_type": "markdown",
   "metadata": {}
  },
  {
   "cell_type": "code",
   "execution_count": 8,
   "metadata": {},
   "outputs": [
    {
     "output_type": "execute_result",
     "data": {
      "text/plain": [
       "1179"
      ]
     },
     "metadata": {},
     "execution_count": 8
    }
   ],
   "source": [
    "_.json()['hits']['total']['value']"
   ]
  },
  {
   "source": [
    "### _7. Determine the number of legislative acts containing the words **kodeks postępowania cywilnego** in the specified order, but in an any inflection form._"
   ],
   "cell_type": "markdown",
   "metadata": {}
  },
  {
   "source": [
    "I'm using `match_phrase` to match words in the specific order."
   ],
   "cell_type": "markdown",
   "metadata": {}
  },
  {
   "cell_type": "code",
   "execution_count": 9,
   "metadata": {},
   "outputs": [
    {
     "output_type": "display_data",
     "data": {
      "text/plain": "{\n  \"hits\": {\n    \"total\": {\n      \"value\": 100\n    },\n    \"hits\": [\n      {\n        \"highlight\": {\n          \"content\": [\n            \" – <em>Kodeks postępowania cywilnego</em>\",\n            \" – <em>Kodeks postępowania\\ncywilnego</em>\",\n            \". – <em>Kodeks postępowania cywilnego</em>\",\n            \"\\n− <em>Kodeks postępowania cywilnego</em>\",\n            \". – <em>Kodeks\\npostępowania cywilnego</em>\"\n          ]\n        }\n      },\n      {\n        \"highlight\": {\n          \"content\": [\n            \" – <em>Kodeks postępowania cywilnego</em>\",\n            \". – <em>Kodeks postępowania cywilnego</em>\"\n          ]\n        }\n      }\n    ]\n  }\n}"
     },
     "metadata": {}
    },
    {
     "output_type": "execute_result",
     "data": {
      "text/plain": [
       "<Response [200]>"
      ]
     },
     "metadata": {},
     "execution_count": 9
    }
   ],
   "source": [
    "%%rest GET acts/_search?filter_path=hits.total.value,hits.hits.highlight.content\n",
    "\n",
    "{\n",
    "  \"query\": {\n",
    "    \"match_phrase\": {\n",
    "      \"content\": \"kodeks postępowania cywilnego\"\n",
    "    }\n",
    "  },\n",
    "  \"highlight\": {\n",
    "    \"fields\": {\n",
    "      \"content\": {\n",
    "        \"fragment_size\": 1,\n",
    "        \"type\": \"plain\"\n",
    "      }\n",
    "    }\n",
    "  },\n",
    "  \"size\": 2\n",
    "}"
   ]
  },
  {
   "source": [
    "Answer:"
   ],
   "cell_type": "markdown",
   "metadata": {}
  },
  {
   "cell_type": "code",
   "execution_count": 10,
   "metadata": {},
   "outputs": [
    {
     "output_type": "execute_result",
     "data": {
      "text/plain": [
       "100"
      ]
     },
     "metadata": {},
     "execution_count": 10
    }
   ],
   "source": [
    "_.json()['hits']['total']['value']"
   ]
  },
  {
   "source": [
    "### _8. Determine the number of legislative acts containing the words **wchodzi w życie**    (in any form) allowing for up to 2 additional words in the searched phrase._"
   ],
   "cell_type": "markdown",
   "metadata": {}
  },
  {
   "source": [
    "I'm using `\"slop\": 2` to allow additional words between the words of the phrase."
   ],
   "cell_type": "markdown",
   "metadata": {}
  },
  {
   "cell_type": "code",
   "execution_count": 11,
   "metadata": {},
   "outputs": [
    {
     "output_type": "display_data",
     "data": {
      "text/plain": "{\n  \"hits\": {\n    \"total\": {\n      \"value\": 1175\n    },\n    \"hits\": [\n      {\n        \"highlight\": {\n          \"content\": [\n            \"\\\", <em>wchodzi</em> <em>w</em> <em>życie</em> z\",\n            \", <em>wchodzą</em> <em>w</em> <em>życie</em> z\",\n            \" <em>wchodzą</em> <em>w</em> <em>życie</em> z\",\n            \", <em>wchodzą</em>\\n  <em>w</em> <em>życie</em> nie\",\n            \"\\n  województwa, <em>wchodzą</em> <em>w</em> <em>życie</em> z\"\n          ]\n        }\n      },\n      {\n        \"highlight\": {\n          \"content\": [\n            \". Ustawa <em>wchodzi</em> <em>w</em> <em>życie</em> po\",\n            \", które <em>wchodzą</em> <em>w</em> <em>życie</em> po\",\n            \" <em>wchodzi</em> <em>w</em> <em>życie</em> z\",\n            \", który <em>wchodzi</em> <em>w</em> <em>życie</em> z\",\n            \" <em>wchodzi</em> <em>w</em> <em>życie</em> z\"\n          ]\n        }\n      }\n    ]\n  }\n}"
     },
     "metadata": {}
    },
    {
     "output_type": "execute_result",
     "data": {
      "text/plain": [
       "<Response [200]>"
      ]
     },
     "metadata": {},
     "execution_count": 11
    }
   ],
   "source": [
    "%%rest GET acts/_search?filter_path=hits.total.value,hits.hits.highlight.content\n",
    "\n",
    "{\n",
    "  \"query\": {\n",
    "    \"match_phrase\": {\n",
    "      \"content\": {\n",
    "        \"query\": \"wchodzi w życie\",\n",
    "        \"slop\": 2\n",
    "      }\n",
    "    }\n",
    "  },\n",
    "  \"highlight\": {\n",
    "    \"fields\": {\n",
    "      \"content\": {\n",
    "        \"fragment_size\": 15,\n",
    "        \"type\": \"plain\"\n",
    "      }\n",
    "    }\n",
    "  },\n",
    "  \"size\": 2\n",
    "}"
   ]
  },
  {
   "source": [
    "Answer:"
   ],
   "cell_type": "markdown",
   "metadata": {}
  },
  {
   "cell_type": "code",
   "execution_count": 12,
   "metadata": {},
   "outputs": [
    {
     "output_type": "execute_result",
     "data": {
      "text/plain": [
       "1175"
      ]
     },
     "metadata": {},
     "execution_count": 12
    }
   ],
   "source": [
    "_.json()['hits']['total']['value']"
   ]
  },
  {
   "source": [
    "### _9. Determine the 10 documents that are the most relevant for the phrase **konstytucja**._"
   ],
   "cell_type": "markdown",
   "metadata": {}
  },
  {
   "cell_type": "code",
   "execution_count": 13,
   "metadata": {},
   "outputs": [
    {
     "output_type": "execute_result",
     "data": {
      "text/plain": [
       "<Response [200]>"
      ]
     },
     "metadata": {},
     "execution_count": 13
    }
   ],
   "source": [
    "%%rest -q GET acts/_search?filter_path=hits.hits._id,hits.hits._score\n",
    "\n",
    "{\n",
    "  \"size\": 10,\n",
    "  \"query\": {\n",
    "    \"match\": {\n",
    "      \"content\": \"konstytucja\"\n",
    "    }\n",
    "  }\n",
    "}"
   ]
  },
  {
   "source": [
    "10 most relevant documents:"
   ],
   "cell_type": "markdown",
   "metadata": {}
  },
  {
   "cell_type": "code",
   "execution_count": 14,
   "metadata": {},
   "outputs": [
    {
     "output_type": "execute_result",
     "data": {
      "text/plain": [
       "         _id    _score\n",
       "0   1997_629  6.871580\n",
       "1   2000_443  6.667763\n",
       "2   1997_604  6.637804\n",
       "3   1996_350  6.631998\n",
       "4   1997_642  6.256372\n",
       "5    2001_23  6.065163\n",
       "6   1996_199  5.935479\n",
       "7   1999_688  5.856316\n",
       "8   1997_681  5.473405\n",
       "9  2001_1082  5.473405"
      ],
      "text/html": "<div>\n<style scoped>\n    .dataframe tbody tr th:only-of-type {\n        vertical-align: middle;\n    }\n\n    .dataframe tbody tr th {\n        vertical-align: top;\n    }\n\n    .dataframe thead th {\n        text-align: right;\n    }\n</style>\n<table border=\"1\" class=\"dataframe\">\n  <thead>\n    <tr style=\"text-align: right;\">\n      <th></th>\n      <th>_id</th>\n      <th>_score</th>\n    </tr>\n  </thead>\n  <tbody>\n    <tr>\n      <th>0</th>\n      <td>1997_629</td>\n      <td>6.871580</td>\n    </tr>\n    <tr>\n      <th>1</th>\n      <td>2000_443</td>\n      <td>6.667763</td>\n    </tr>\n    <tr>\n      <th>2</th>\n      <td>1997_604</td>\n      <td>6.637804</td>\n    </tr>\n    <tr>\n      <th>3</th>\n      <td>1996_350</td>\n      <td>6.631998</td>\n    </tr>\n    <tr>\n      <th>4</th>\n      <td>1997_642</td>\n      <td>6.256372</td>\n    </tr>\n    <tr>\n      <th>5</th>\n      <td>2001_23</td>\n      <td>6.065163</td>\n    </tr>\n    <tr>\n      <th>6</th>\n      <td>1996_199</td>\n      <td>5.935479</td>\n    </tr>\n    <tr>\n      <th>7</th>\n      <td>1999_688</td>\n      <td>5.856316</td>\n    </tr>\n    <tr>\n      <th>8</th>\n      <td>1997_681</td>\n      <td>5.473405</td>\n    </tr>\n    <tr>\n      <th>9</th>\n      <td>2001_1082</td>\n      <td>5.473405</td>\n    </tr>\n  </tbody>\n</table>\n</div>"
     },
     "metadata": {},
     "execution_count": 14
    }
   ],
   "source": [
    "pd.DataFrame(_.json()['hits']['hits'])"
   ]
  },
  {
   "source": [
    "### _10. Print the excerpts containing the word **konstytucja** (up to three excerpts per document) from the previous task._"
   ],
   "cell_type": "markdown",
   "metadata": {}
  },
  {
   "cell_type": "code",
   "execution_count": 15,
   "metadata": {},
   "outputs": [
    {
     "output_type": "display_data",
     "data": {
      "text/plain": "{\n  \"hits\": {\n    \"hits\": [\n      {\n        \"_id\": \"1997_629\",\n        \"highlight\": {\n          \"content\": [\n            \"o zmianie ustawy konstytucyjnej o trybie przygotowania\\n           i uchwalenia <em>Konstytucji</em> Rzeczypospolitej\",\n            \"W ustawie  konstytucyjnej z  dnia 23 kwietnia 1992 r. o trybie przygotowania i \\nuchwalenia <em>Konstytucji</em>\",\n            \"Do zgłoszenia projektu <em>Konstytucji</em> załącza się wykaz \\n                obywateli popierających zgłoszenie\"\n          ]\n        }\n      },\n      {\n        \"_id\": \"2000_443\",\n        \"highlight\": {\n          \"content\": [\n            \"umowy międzynarodowej i nie wypełnia przesłanek określonych w art. 89\\n     ust. 1 lub art. 90 <em>Konstytucji</em>\",\n            \"międzynarodowej lub załącznika nie\\n     wypełnia przesłanek określonych w art. 89 ust. 1 lub art. 90 <em>Konstytucji</em>\",\n            \"co do zasadności wyboru\\n  trybu ratyfikacji umowy międzynarodowej, o którym mowa w art. 89 ust. 2\\n  <em>Konstytucji</em>\"\n          ]\n        }\n      }\n    ]\n  }\n}"
     },
     "metadata": {}
    },
    {
     "output_type": "execute_result",
     "data": {
      "text/plain": [
       "<Response [200]>"
      ]
     },
     "metadata": {},
     "execution_count": 15
    }
   ],
   "source": [
    "%%rest GET acts/_search?filter_path=hits.hits._id,hits.hits.highlight\n",
    "\n",
    "{\n",
    "  \"query\": {\n",
    "    \"match\": {\n",
    "      \"content\": \"konstytucja\"\n",
    "    }\n",
    "  },\n",
    "  \"highlight\": {\n",
    "    \"fields\": {\n",
    "      \"content\": {\n",
    "        \"number_of_fragments\": 3\n",
    "      }\n",
    "    }\n",
    "  },\n",
    "  \"size\": 2\n",
    "}"
   ]
  }
 ]
}